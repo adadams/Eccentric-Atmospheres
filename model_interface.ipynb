{
 "cells": [
  {
   "cell_type": "code",
   "execution_count": null,
   "metadata": {
    "collapsed": true
   },
   "outputs": [],
   "source": [
    "##### The typical packages to import."
   ]
  },
  {
   "cell_type": "code",
   "execution_count": 1,
   "metadata": {
    "collapsed": false
   },
   "outputs": [
    {
     "name": "stderr",
     "output_type": "stream",
     "text": [
      "/Users/arthur/anaconda/lib/python2.7/site-packages/matplotlib/font_manager.py:273: UserWarning: Matplotlib is building the font cache using fc-list. This may take a moment.\n",
      "  warnings.warn('Matplotlib is building the font cache using fc-list. This may take a moment.')\n"
     ]
    }
   ],
   "source": [
    "import astropy.constants as C\n",
    "import astropy.units as U\n",
    "import numpy as N\n",
    "\n",
    "%matplotlib inline\n",
    "import matplotlib\n",
    "from matplotlib import pyplot as plt\n",
    "\n",
    "import datetime"
   ]
  },
  {
   "cell_type": "markdown",
   "metadata": {},
   "source": [
    "##### The planet class contains all the methods used for the geometry of the planet-star system."
   ]
  },
  {
   "cell_type": "code",
   "execution_count": 2,
   "metadata": {
    "collapsed": false
   },
   "outputs": [],
   "source": [
    "from planet_class import Planet"
   ]
  },
  {
   "cell_type": "markdown",
   "metadata": {},
   "source": [
    "##### Import the modules for the thermal model (currently a blackbody model)."
   ]
  },
  {
   "cell_type": "code",
   "execution_count": 3,
   "metadata": {
    "collapsed": true
   },
   "outputs": [],
   "source": [
    "from thermal import blackbody as thermal_model"
   ]
  },
  {
   "cell_type": "markdown",
   "metadata": {},
   "source": [
    "##### Import the system properties and data of the desired planet (contained in a Python dictionary in a separate file)."
   ]
  },
  {
   "cell_type": "code",
   "execution_count": 4,
   "metadata": {
    "collapsed": false
   },
   "outputs": [],
   "source": [
    "#from data.planet.HD209458b import HD209458b as exoplanet\n",
    "from data.planet.HATP2b import HATP2b as exoplanet"
   ]
  },
  {
   "cell_type": "markdown",
   "metadata": {},
   "source": [
    "##### Import the instrumental response data (currently for the Spitzer IRAC bands) and the routine to convert surface temperatures to observed planet-star flux ratios in a given band."
   ]
  },
  {
   "cell_type": "code",
   "execution_count": 5,
   "metadata": {
    "collapsed": false
   },
   "outputs": [
    {
     "name": "stderr",
     "output_type": "stream",
     "text": [
      "/Users/arthur/anaconda/lib/python2.7/site-packages/astropy/analytic_functions/blackbody.py:30: RuntimeWarning: overflow encountered in expm1\n",
      "  _has_buggy_expm1 = np.isnan(np.expm1(1000))\n"
     ]
    }
   ],
   "source": [
    "from data.bandpass.spitzer_IRAC import spitzer_IRAC as instrument\n",
    "from data.bandpass.response import light_curve"
   ]
  },
  {
   "cell_type": "markdown",
   "metadata": {},
   "source": [
    "##### Import the likelihood calculation routine."
   ]
  },
  {
   "cell_type": "code",
   "execution_count": 6,
   "metadata": {
    "collapsed": false
   },
   "outputs": [],
   "source": [
    "from stats.gaussian import log_likelihood\n",
    "from stats.metropolis import MCMC"
   ]
  },
  {
   "cell_type": "markdown",
   "metadata": {},
   "source": [
    "##### Import any visualization routines needed."
   ]
  },
  {
   "cell_type": "code",
   "execution_count": 7,
   "metadata": {
    "collapsed": false
   },
   "outputs": [
    {
     "data": {
      "image/png": "[encoded data removed]",
      "text/plain": [
       "<matplotlib.figure.Figure at 0x10d15ead0>"
      ]
     },
     "metadata": {},
     "output_type": "display_data"
    }
   ],
   "source": [
    "from visualization import multi_animation\n",
    "from visualization.lightcurve_plot import LightCurvePlot\n",
    "from visualization.orbit_plot import OrbitPlot\n",
    "from visualization.surface_plot import SurfacePlot"
   ]
  },
  {
   "cell_type": "markdown",
   "metadata": {},
   "source": [
    "##### Create a planet instance with the user-supplied system properties."
   ]
  },
  {
   "cell_type": "code",
   "execution_count": 8,
   "metadata": {
    "collapsed": false
   },
   "outputs": [],
   "source": [
    "planet = Planet(exoplanet.system_properties)"
   ]
  },
  {
   "cell_type": "markdown",
   "metadata": {},
   "source": [
    "##### Specify the spatial and time resolution for the calculations, including the number of orbits to run."
   ]
  },
  {
   "cell_type": "code",
   "execution_count": 9,
   "metadata": {
    "collapsed": true
   },
   "outputs": [],
   "source": [
    "planet.set_resolution(longitude_resolution = 18,\n",
    "                      latitude_resolution = 8,\n",
    "                      time_resolution = 100,\n",
    "                      num_orbits = 2)"
   ]
  },
  {
   "cell_type": "markdown",
   "metadata": {},
   "source": [
    "##### Specify ranges to be used for the grid in parameter space to be sampled. Make sure that the rotation period is the first parameter. For the blackbody model one also specifies the radiative timescale at 1000 K, the \"nightside\" (baseline) temperature of the planet, and the global Bond albedo."
   ]
  },
  {
   "cell_type": "code",
   "execution_count": 95,
   "metadata": {
    "collapsed": false
   },
   "outputs": [],
   "source": [
    "prot = N.linspace(1.0, 2.5, num=1) * planet.pseudosynchronous_period()\n",
    "t1000 = N.linspace(0, 150, num=151)\n",
    "t1000[0] += 0.001\n",
    "Tn = N.linspace(1000, 1200, num=1) * U.K\n",
    "albedo = N.linspace(0.0, 1.0, num=101)\n",
    "\n",
    "parameters = [prot, t1000*U.hr, Tn, albedo]"
   ]
  },
  {
   "cell_type": "markdown",
   "metadata": {},
   "source": [
    "##### A wrapper function using the thermal model and light curve routines to start with a set of specified parameter values and return a light curve. This function will be passed to the statistical likelihood function."
   ]
  },
  {
   "cell_type": "code",
   "execution_count": 11,
   "metadata": {
    "collapsed": true
   },
   "outputs": [],
   "source": [
    "def generate_model(parameters, spectral_array):\n",
    "    temperature_map = thermal_model.temperatures(planet_object=planet, parameters=parameters)\n",
    "    model = light_curve(planet, temperature_map, spectral_array, prot=parameters[0])\n",
    "    return {'temp': temperature_map, 'model': model}"
   ]
  },
  {
   "cell_type": "markdown",
   "metadata": {},
   "source": [
    "##### Call the statistical likelihood function and save the output as an array in parameter space. 'parallel' runs every parameter in parallel using broadcasting in Numpy. If the array is too large, a memory error might result, so use 'serial' instead. Parallel is faster for small array dimensions."
   ]
  },
  {
   "cell_type": "code",
   "execution_count": null,
   "metadata": {
    "collapsed": true
   },
   "outputs": [],
   "source": [
    "def mcmc_prior(parameters):\n",
    "    p, r, T, a = parameters\n",
    "    lnp = N.where(p>0, 0, -N.inf)\n",
    "    lnp = N.where(r>0, lnp, -N.inf)\n",
    "    lnp = N.where(T>0, lnp, -N.inf)\n",
    "    lnp = N.where(0<=a, lnp, -N.inf)\n",
    "    lnp = N.where(a<=1, lnp, -N.inf)\n",
    "    return lnp"
   ]
  },
  {
   "cell_type": "code",
   "execution_count": null,
   "metadata": {
    "collapsed": true
   },
   "outputs": [],
   "source": [
    "starting_position = {'values': [1, 5, 600, 0.1],\n",
    "                     'units': [planet.pseudosynchronous_period(), U.hr, U.K, 1]}"
   ]
  },
  {
   "cell_type": "code",
   "execution_count": null,
   "metadata": {
    "collapsed": false
   },
   "outputs": [],
   "source": [
    "mcmc_model = {}\n",
    "samples = {}\n",
    "for band in exoplanet.data:\n",
    "    print \"Band: {0}\".format(band)\n",
    "    mcmc_model[band] = MCMC(planet_object = planet,\n",
    "                            data = exoplanet.data[band],\n",
    "                            spectral_array = instrument.bandpass[band],\n",
    "                            model_function = generate_model)\n",
    "    mcmc_model[band].set_prior(mcmc_prior)\n",
    "    mcmc_model[band].set_initial_position(starting_position)\n",
    "    samples[band] = mcmc_model[band].run_samples(num_walkers=2, num_steps=3, step_size=0.05)"
   ]
  },
  {
   "cell_type": "code",
   "execution_count": null,
   "metadata": {
    "collapsed": false
   },
   "outputs": [],
   "source": [
    "with open('{0}_mc_pos.npz'.format(datetime.date.today()), 'w') as mc_file:\n",
    "    N.savez(mc_file, samples['3p6']['pos'], samples['4p5']['pos'], samples['8p0']['pos'])\n",
    "    \n",
    "with open('{0}_mc_logl.npz'.format(datetime.date.today()), 'w') as mc_file:\n",
    "    N.savez(mc_file, samples['3p6']['logl'], samples['4p5']['logl'], samples['8p0']['logl'])"
   ]
  },
  {
   "cell_type": "code",
   "execution_count": 105,
   "metadata": {
    "collapsed": false
   },
   "outputs": [],
   "source": [
    "logl_file = N.load('2016-10-12_mc_logl.npz')\n",
    "mc_logl = {'3p6': logl_file['arr_0'], '4p5': logl_file['arr_1'], '8p0': logl_file['arr_2']}"
   ]
  },
  {
   "cell_type": "code",
   "execution_count": 106,
   "metadata": {
    "collapsed": false
   },
   "outputs": [],
   "source": [
    "pos_file = N.load('2016-10-12_mc_pos.npz')\n",
    "mc_pos = {'3p6': pos_file['arr_0'], '4p5': pos_file['arr_1'], '8p0': pos_file['arr_2']}"
   ]
  },
  {
   "cell_type": "code",
   "execution_count": null,
   "metadata": {
    "collapsed": false
   },
   "outputs": [],
   "source": [
    "#plt.figure()\n",
    "#plt.plot(range(samples['4p5']), samples['4p5'])\n",
    "\n",
    "#i_dict = {0: '3p6', 1: '4p5', 2: '8p0'}\n",
    "\n",
    "burn_in = 250\n",
    "\n",
    "fig, axarr = plt.subplots(4)\n",
    "for i in range(4):\n",
    "    axarr[i].plot((mc_pos['8p0'].T)[i][0],color='red',alpha=0.3)\n",
    "    axarr[i].plot((mc_pos['8p0'].T)[i][1],color='green',alpha=0.3)\n",
    "    axarr[i].plot((mc_pos['8p0'].T)[i][2],color='blue',alpha=0.3)\n",
    "    axarr[i].plot((mc_pos['8p0'].T)[i][3],color='orange',alpha=0.3)\n",
    "    #plt.axhline(true_dict[i],color='violet',linewidth=3)\n",
    "    axarr[i].axvline(burn_in,color='red',linestyle='dashed')\n",
    "#plt.title(param_name)\n",
    "#axarr[2].set_ylim((0,1000))\n",
    "plt.savefig('{0}_{1}_mc_8p0.eps'.format(datetime.date.today(), planet.name))"
   ]
  },
  {
   "cell_type": "code",
   "execution_count": null,
   "metadata": {
    "collapsed": false
   },
   "outputs": [],
   "source": [
    "burn_in = 250\n",
    "\n",
    "fig, ax = plt.subplots()\n",
    "ax.plot((mc_logl['3p6'].T)[0],color='red',alpha=0.3)\n",
    "ax.plot((mc_logl['3p6'].T)[1],color='green',alpha=0.3)\n",
    "ax.plot((mc_logl['3p6'].T)[2],color='blue',alpha=0.3)\n",
    "ax.plot((mc_logl['3p6'].T)[3],color='orange',alpha=0.3)\n",
    "ax.axvline(burn_in,color='red',linestyle='dashed')\n",
    "ax.set_xlim((800,850))\n",
    "ax.set_ylim((0,20))\n",
    "plt.savefig('{0}_{1}_logl_3p6.eps'.format(datetime.date.today(), planet.name))"
   ]
  },
  {
   "cell_type": "code",
   "execution_count": 70,
   "metadata": {
    "collapsed": false
   },
   "outputs": [
    {
     "name": "stdout",
     "output_type": "stream",
     "text": [
      "Band: 4p5\n",
      "Most favorable parameter values: [<Quantity 1.9462562498294438 d>, <Quantity 50.0 h>, <Quantity 1000.0 K>, 0.51000000000000001]\n",
      "Band: 8p0\n",
      "Most favorable parameter values: [<Quantity 1.9462562498294438 d>, <Quantity 27.0 h>, <Quantity 1000.0 K>, 0.51000000000000001]\n",
      "Band: 3p6\n",
      "Most favorable parameter values: [<Quantity 1.9462562498294438 d>, <Quantity 39.0 h>, <Quantity 1000.0 K>, 0.51000000000000001]\n"
     ]
    }
   ],
   "source": [
    "logls___ = {}\n",
    "for band in exoplanet.data:\n",
    "    print \"Band: {0}\".format(band)\n",
    "    logls___[band] = log_likelihood(planet_object = planet,\n",
    "                                 data = exoplanet.data[band],\n",
    "                                 spectral_array = instrument.bandpass[band],\n",
    "                                 model_function = generate_model,\n",
    "                                 parameters = parameters,\n",
    "                                 opt = 'parallel')"
   ]
  },
  {
   "cell_type": "code",
   "execution_count": 103,
   "metadata": {
    "collapsed": true
   },
   "outputs": [],
   "source": [
    "with open('{0}_{1}_grid.npy'.format(datetime.date.today(), planet.name), 'w') as grid_file:\n",
    "    N.save(grid_file, logls_comp)"
   ]
  },
  {
   "cell_type": "markdown",
   "metadata": {},
   "source": [
    "##### Pull the most favorable parameter values and make a grid of that single set to plot the flux curve(s). Then generate models for the most favorable parameters in each band."
   ]
  },
  {
   "cell_type": "code",
   "execution_count": 72,
   "metadata": {
    "collapsed": false
   },
   "outputs": [],
   "source": [
    "best_parameters = {}\n",
    "best_rotation = {}\n",
    "best_paramgrid = {}\n",
    "best_model = {}\n",
    "\n",
    "for band in exoplanet.data:\n",
    "    best_parameters[band] = [par[j].reshape(1)[0] for par, j in zip(parameters, logls[band]['index'])]\n",
    "    best_rotation[band] = best_parameters[band][0]\n",
    "    best_paramgrid[band] = N.meshgrid(*best_parameters[band])\n",
    "    \n",
    "    #For purposes of plotting and displays, let's bump up the resolution.\n",
    "    #We only need to generate a single model for each band.\n",
    "    planet.set_resolution(longitude_resolution = 360,\n",
    "                          latitude_resolution = 180,\n",
    "                          time_resolution = 100,\n",
    "                          num_orbits = 2)\n",
    "    \n",
    "    best_model[band] = generate_model(best_paramgrid[band], instrument.bandpass[band])\n",
    "    best_model[band]['model'] = best_model[band]['model'].reshape(planet.time_resolution*planet.num_orbits)\n",
    "    best_model[band]['temp'] = best_model[band]['temp'].reshape(planet.time_resolution*planet.num_orbits, planet.latitude_resolution+1, planet.longitude_resolution+1)"
   ]
  },
  {
   "cell_type": "markdown",
   "metadata": {},
   "source": [
    "##### This routine compiles the flux curves for all calculated periastron-to-periastron orbits, to show how rotation periods other than synchronous with orbital period can cause the flux curve to change each orbit."
   ]
  },
  {
   "cell_type": "code",
   "execution_count": null,
   "metadata": {
    "collapsed": false
   },
   "outputs": [],
   "source": [
    "orbital_fluxes = best_model['4p5']['model'][planet.time_resolution/2:-planet.time_resolution/2].reshape((planet.num_orbits-1,planet.time_resolution))\n",
    "y, x = N.meshgrid(range(planet.time_resolution),range(planet.num_orbits-1))\n",
    "plt.pcolor(x,y,orbital_fluxes,cmap=\"RdBu\", vmin=1.000, vmax=1.002)\n",
    "plt.colorbar()\n",
    "plt.savefig(\"{0}_{1}_orbitevo.pdf\".format(datetime.date.today(), planet.name))"
   ]
  },
  {
   "cell_type": "code",
   "execution_count": 93,
   "metadata": {
    "collapsed": false
   },
   "outputs": [],
   "source": [
    "logls_comp = {}\n",
    "for band in logls:\n",
    "    logls_comp[band] = N.c_[N.r_[logls[band]['logl'], logls_[band]['logl'], logls__[band]['logl']], N.r_[logls___[band]['logl'], logls____[band]['logl'], logls_____[band]['logl']]]\n",
    "    logls_comp[band] = logls_comp[band].reshape(151,101)"
   ]
  },
  {
   "cell_type": "code",
   "execution_count": 109,
   "metadata": {
    "collapsed": false
   },
   "outputs": [
    {
     "data": {
      "image/png": "[encoded data removed]",
      "text/plain": [
       "<matplotlib.figure.Figure at 0x112c67350>"
      ]
     },
     "metadata": {},
     "output_type": "display_data"
    }
   ],
   "source": [
    "x, y = N.meshgrid(albedo, t1000)\n",
    "plt.pcolor(x, y, logls_comp['4p5'], cmap='cubehelix_r')\n",
    "plt.colorbar()\n",
    "plt.plot(mc_pos['4p5'].T[1][0], mc_pos['4p5'].T[0][0], color='red', alpha=0.5)\n",
    "#plt.plot(mc_pos['8p0'].T[1][1], mc_pos['8p0'].T[0][1], color='green', alpha=0.3)\n",
    "#plt.plot(mc_pos['8p0'].T[1][2], mc_pos['8p0'].T[0][2], color='blue', alpha=0.3)\n",
    "#plt.plot(mc_pos['8p0'].T[1][3], mc_pos['8p0'].T[0][3], color='orange', alpha=0.3)\n",
    "plt.xlabel(r'Albedo')\n",
    "plt.ylabel(r'$\\tau_{1000}$ (hr)')\n",
    "plt.title(r'4.5 $\\mu$m')\n",
    "plt.savefig('{0}_{1}_loglgrid_4p5.pdf'.format(datetime.date.today(), planet.name))"
   ]
  },
  {
   "cell_type": "markdown",
   "metadata": {},
   "source": [
    "##### Create some plot objects. The orbit plot shows the outline and motion/phases over the orbit, showing the rotation. The surface plot shows the evolution of surface temperatures, but can be used to show any planet surface quantity over time."
   ]
  },
  {
   "cell_type": "code",
   "execution_count": 73,
   "metadata": {
    "collapsed": false
   },
   "outputs": [],
   "source": [
    "lightcurve_plot = LightCurvePlot(planet, exoplanet.data, best_model, best_parameters)\n",
    "orbit_plot = OrbitPlot(planet,\n",
    "                       rotation_period = best_rotation['3p6'])\n",
    "surface_plot = SurfacePlot(planet,\n",
    "                           rotation_period = best_rotation['3p6'],\n",
    "                  \n",
    "                           map_array = best_model['3p6']['temp'].reshape(planet.time_resolution*planet.num_orbits, planet.latitude_resolution+1, planet.longitude_resolution+1))"
   ]
  },
  {
   "cell_type": "markdown",
   "metadata": {},
   "source": [
    "##### Plot the data vs. models. The models shown correspond to the best-fit parameters for each band, which may or may not agree with each other."
   ]
  },
  {
   "cell_type": "code",
   "execution_count": 114,
   "metadata": {
    "collapsed": false
   },
   "outputs": [
    {
     "name": "stdout",
     "output_type": "stream",
     "text": [
      "False\n"
     ]
    }
   ],
   "source": [
    "q = N.zeros((4,1))\n",
    "print q.any() == 1"
   ]
  },
  {
   "cell_type": "code",
   "execution_count": 74,
   "metadata": {
    "collapsed": false
   },
   "outputs": [
    {
     "data": {
      "image/png": "[encoded data removed]",
      "text/plain": [
       "<matplotlib.figure.Figure at 0x1155390d0>"
      ]
     },
     "metadata": {},
     "output_type": "display_data"
    }
   ],
   "source": [
    "fig, ax = plt.subplots()\n",
    "lightcurve_plot.draw(axis=ax, save=True)"
   ]
  },
  {
   "cell_type": "code",
   "execution_count": null,
   "metadata": {
    "collapsed": true
   },
   "outputs": [],
   "source": []
  },
  {
   "cell_type": "markdown",
   "metadata": {},
   "source": [
    "##### This animation routine accepts a list of plot objects to animate. Here I chose the orbit and surface maps."
   ]
  },
  {
   "cell_type": "code",
   "execution_count": null,
   "metadata": {
    "collapsed": false,
    "scrolled": true
   },
   "outputs": [],
   "source": [
    "animation = multi_animation.draw(planet, [orbit_plot, surface_plot])"
   ]
  },
  {
   "cell_type": "markdown",
   "metadata": {},
   "source": [
    "\n",
    "\n",
    "##### Plot a grid of likelihood contour maps, showing the regions of most favorable parameter values for each wavelength band."
   ]
  },
  {
   "cell_type": "code",
   "execution_count": null,
   "metadata": {
    "collapsed": false
   },
   "outputs": [],
   "source": [
    "matplotlib.rcParams['xtick.direction'] = 'out'\n",
    "matplotlib.rcParams['ytick.direction'] = 'out'\n",
    "\n",
    "num_columns = N.sum(wavelengths_use)\n",
    "column_order = [N.sum(wavelengths_use[:n]) for n in xrange(len(wavelengths_use))]\n",
    "num_rows = N.shape(planet.beta)[2]\n",
    "\n",
    "likelihood_figure, axes = plt.subplots(num_rows, num_columns, sharex=True)\n",
    "\n",
    "level_min = N.ceil(N.min([logl[key]['logl'] for key in logl.keys()]))\n",
    "level_max = N.ceil(N.max([logl[key]['logl'] for key in logl.keys()]))\n",
    "level_step = 10**(N.floor(N.log10(level_max))-1)\n",
    "levels = N.arange(start=level_min, stop=level_max, step=2*level_step)\n",
    "\n",
    "for i, row in enumerate(axes):\n",
    "    for j, cell in enumerate(row):\n",
    "        cell.yaxis.tick_right()\n",
    "        if use_3p6 and j == column_order[0]:\n",
    "            cell.set_axis_bgcolor('#D9B2F0')\n",
    "            im = cell.contour(rot_psr, t_rad, logl['3p6']['logl'][:,:,num_rows-(i+1)].T, levels, origin='lower', cmap=cm.plasma)\n",
    "            if i == 0: cell.set_title(r'$3.6 \\mu$m', fontsize=15, color='#6E209C')\n",
    "        if use_4p5 and j == column_order[1]:\n",
    "            im = cell.contour(rot_psr, t_rad, logl['4p5']['logl'][:,:,num_rows-(i+1)].T, levels, origin='lower', cmap=cm.plasma)\n",
    "            cell.set_axis_bgcolor('#FFD4BA')\n",
    "            if i == 0: cell.set_title(r'$4.5 \\mu$m', fontsize=15, color='#E97025')\n",
    "        if use_5p8 and j == column_order[2]:\n",
    "            im = cell.contour(rot_psr, t_rad, logl['5p8']['logl'][:,:,num_rows-(i+1)].T, levels, origin='lower', cmap=cm.plasma)\n",
    "            cell.set_axis_bgcolor('#C5F8B5')\n",
    "            if i == 0: cell.set_title(r'$5.8 \\mu$m', fontsize=15, color='#47C61F')\n",
    "        if use_8p0 and j == column_order[3]:\n",
    "            im = cell.contour(rot_psr, t_rad, logl['8p0']['logl'][:,:,num_rows-(i+1)].T, levels, origin='lower', cmap=cm.plasma)\n",
    "            cell.set_axis_bgcolor('#F8B5D2')\n",
    "            if i == 0: cell.set_title(r'$8.0 \\mu$m', fontsize=15, color='#C51F68')\n",
    "        \n",
    "        if j == 0: cell.set_ylabel('%i' % nighttemp[num_rows-(i+1)].value, fontsize=12)\n",
    "        if j != num_columns-1:\n",
    "            cell.yaxis.set_ticklabels([])\n",
    "            \n",
    "        #im = cell.imshow(likelihoods[j,:,:,i], interpolation='bilinear', origin='lower', cmap=cm.viridis)\n",
    "        cell.clabel(im, inline=1, fmt='%i', fontsize=8)\n",
    "        \n",
    "likelihood_figure.text(0.5, 0.01, r'$P_{\\mathrm{rot}}/P_{\\mathrm{PSR}}$', fontsize=15, ha='center')\n",
    "likelihood_figure.text(0.97, 0.5, r'$t_{\\mathrm{rad}}$ (hr) at 1000 K', fontsize=15, va='center', rotation='vertical')\n",
    "likelihood_figure.text(0.03, 0.5, r'$T_{\\mathrm{n}}$ (K)', fontsize=15, va='center', rotation='vertical')\n",
    "likelihood_figure.tight_layout\n",
    "plt.savefig('{0}_likelihood_{1}.eps'.format(datetime.date.today(), planet.name))"
   ]
  },
  {
   "cell_type": "code",
   "execution_count": null,
   "metadata": {
    "collapsed": false
   },
   "outputs": [],
   "source": [
    "print best_grid(logl['4p5'])\n",
    "print data_4p5"
   ]
  },
  {
   "cell_type": "code",
   "execution_count": null,
   "metadata": {
    "collapsed": true
   },
   "outputs": [],
   "source": [
    "def bootstrap(data, response, passband, num_samples):\n",
    "    variance = 0\n",
    "    best_values = best_grid(logl[passband])\n",
    "    betas, rots, nighttemps = best_values['mesh']\n",
    "    planet.set_custom_parameters(beta=betas,\n",
    "                               rotation_period=rots,\n",
    "                               nightside_temperature=nighttemps)\n",
    "    planet.set_albedo(best_values['albedo'])\n",
    "    data_resample = data.copy()\n",
    "    for i in xrange(num_samples):\n",
    "        resample = N.random.choice(range(N.shape(data)[0]), size=N.shape(data)[0], replace=True)\n",
    "        for j in xrange(N.shape(data)[0]):\n",
    "            data_resample.values[j] = N.array([data.t[resample[j]], data.flux[resample[j]]])\n",
    "        logl_resample = planet.log_likelihood(data_resample, response, time_cut)\n",
    "        var_i = (logl_resample['logl'] - best_values['logl'])**2 / num_samples\n",
    "        variance += var_i\n",
    "    \n",
    "    return N.sqrt(variance)"
   ]
  },
  {
   "cell_type": "code",
   "execution_count": null,
   "metadata": {
    "collapsed": false
   },
   "outputs": [],
   "source": [
    "print bootstrap(data_4p5, spitzer_4p5, '4p5', 100)"
   ]
  },
  {
   "cell_type": "code",
   "execution_count": null,
   "metadata": {
    "collapsed": false
   },
   "outputs": [],
   "source": [
    "print best_grid(logl['4p5'])['logl']"
   ]
  }
 ],
 "metadata": {
  "anaconda-cloud": {},
  "kernelspec": {
   "display_name": "Python [default]",
   "language": "python",
   "name": "python2"
  },
  "language_info": {
   "codemirror_mode": {
    "name": "ipython",
    "version": 2
   },
   "file_extension": ".py",
   "mimetype": "text/x-python",
   "name": "python",
   "nbconvert_exporter": "python",
   "pygments_lexer": "ipython2",
   "version": "2.7.12"
  }
 },
 "nbformat": 4,
 "nbformat_minor": 0
}
