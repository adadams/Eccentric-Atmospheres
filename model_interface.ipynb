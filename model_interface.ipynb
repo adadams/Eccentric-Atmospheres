{
 "cells": [
  {
   "cell_type": "markdown",
   "metadata": {
    "collapsed": true,
    "deletable": true,
    "editable": true
   },
   "source": [
    "# Thermal Radiative Model Interface"
   ]
  },
  {
   "cell_type": "markdown",
   "metadata": {
    "deletable": true,
    "editable": true
   },
   "source": [
    "This notebook will produce relevant figures from the accompanying publication. The first section uses a data file of measured secondary eclipses. The remaining sections are specific to a single planet. It imports existing MCMC results for likelihood optimization of the thermal model parameters."
   ]
  },
  {
   "cell_type": "markdown",
   "metadata": {
    "deletable": true,
    "editable": true
   },
   "source": [
    "***\n",
    "##### Import shared packages."
   ]
  },
  {
   "cell_type": "code",
   "execution_count": 48,
   "metadata": {
    "collapsed": false,
    "deletable": true,
    "editable": true
   },
   "outputs": [],
   "source": [
    "import astropy.constants as C\n",
    "import astropy.units as U\n",
    "from astropy.analytic_functions import blackbody_lambda\n",
    "import numpy as N\n",
    "from scipy.stats import lognorm\n",
    "\n",
    "%matplotlib inline\n",
    "from matplotlib import pyplot as plt\n",
    "from matplotlib import ticker\n",
    "plt.rc('text', usetex=True)\n",
    "plt.rc('font', family='serif')\n",
    "from colorcet import cm\n",
    "\n",
    "import datetime"
   ]
  },
  {
   "cell_type": "markdown",
   "metadata": {
    "deletable": true,
    "editable": true
   },
   "source": [
    "##### Import instrumental response data."
   ]
  },
  {
   "cell_type": "code",
   "execution_count": 2,
   "metadata": {
    "collapsed": false,
    "deletable": true,
    "editable": true
   },
   "outputs": [],
   "source": [
    "from data.bandpass.spitzer_IRAC import spitzer_IRAC as spitzer_IRAC\n",
    "from data.bandpass.JHKs.TwoMASS import TwoMASS as TwoMASS\n",
    "from data.bandpass.kepler import kepler as kepler\n",
    "bandpasses = {**kepler.bandpass, **TwoMASS.bandpass, **spitzer_IRAC.bandpass}"
   ]
  },
  {
   "cell_type": "markdown",
   "metadata": {
    "deletable": true,
    "editable": true
   },
   "source": [
    "***\n",
    "## Secondary Eclipse Plots"
   ]
  },
  {
   "cell_type": "markdown",
   "metadata": {
    "deletable": true,
    "editable": true
   },
   "source": [
    "##### Import data on measured eclipse depths in a variety of photometric bands, along with some system properties. We want to calculate the ratio of the measured depths to what the depth should be if the planet were radiating uniformly at its theoretical equilibrium temperature."
   ]
  },
  {
   "cell_type": "code",
   "execution_count": 3,
   "metadata": {
    "collapsed": false,
    "deletable": true,
    "editable": true
   },
   "outputs": [],
   "source": [
    "eclipse_file = N.genfromtxt('files/sec_eclipses.csv', delimiter=',', names=True, usecols=(range(1,15)), comments='#')\n",
    "eclipse_names = N.genfromtxt('files/sec_eclipses.csv', delimiter=',', usecols=0, dtype=str, comments='#')[1:]"
   ]
  },
  {
   "cell_type": "code",
   "execution_count": 4,
   "metadata": {
    "collapsed": false,
    "deletable": true,
    "editable": true
   },
   "outputs": [],
   "source": [
    "Teq = eclipse_file['TEFF'] * N.sqrt(0.5/eclipse_file['AR']) * U.K\n",
    "Rs = eclipse_file['RSTAR'] * C.R_sun\n",
    "Rp = eclipse_file['R'] * C.R_jup"
   ]
  },
  {
   "cell_type": "code",
   "execution_count": 5,
   "metadata": {
    "collapsed": false,
    "deletable": true,
    "editable": true
   },
   "outputs": [],
   "source": [
    "flux_ratio = {}\n",
    "for band in bandpasses:\n",
    "    I_eq = N.array([N.dot(blackbody_lambda(in_x = bandpasses[band]['wavelength']*U.um, temperature = T), bandpasses[band]['weighted_spectrum']) for T in Teq])\n",
    "    I_star = N.array([N.dot(blackbody_lambda(in_x = bandpasses[band]['wavelength']*U.um, temperature = T), bandpasses[band]['weighted_spectrum']) for T in eclipse_file['TEFF']*U.K])\n",
    "    F_th = I_eq / I_star * (Rp/Rs)**2\n",
    "    flux_ratio[band] = eclipse_file[band] / F_th"
   ]
  },
  {
   "cell_type": "markdown",
   "metadata": {
    "deletable": true,
    "editable": true
   },
   "source": [
    "##### Plot a scatterplot of the ratio of observed eclipse depths to the thermal depths, as a function of equilibrium temperature."
   ]
  },
  {
   "cell_type": "code",
   "execution_count": 6,
   "metadata": {
    "collapsed": true
   },
   "outputs": [],
   "source": [
    "plot_colors = ['#4575b4', '#74add1', '#abd9e9', '#e0f3f8', '#fee090', '#fdae61', '#f46d43', '#d73027']\n",
    "plot_labels = [r'Kepler', r'$J$', r'$H$', r'$K_s$', r'3.6 $\\mu$m', r'4.5 $\\mu$m', r'5.8 $\\mu$m', r'8.0 $\\mu$m']"
   ]
  },
  {
   "cell_type": "code",
   "execution_count": null,
   "metadata": {
    "collapsed": false,
    "deletable": true,
    "editable": true
   },
   "outputs": [],
   "source": [
    "fig, ax = plt.subplots()\n",
    "\n",
    "for i, band in enumerate(bandpasses):\n",
    "    ax.scatter(Teq, flux_ratio[band], c=plot_colors[i], label=plot_labels[i])\n",
    "    \n",
    "ax.axhline(1, c='k', linewidth=0.5, linestyle='dotted', alpha=0.5)\n",
    "\n",
    "plt.xlabel(r'T$_\\mathrm{eq}$ (K)', fontsize=18)\n",
    "plt.ylabel(r'F$_\\mathrm{obs}$/F$_\\mathrm{eq}$', fontsize=18)\n",
    "ax.tick_params(axis='both', which='major', labelsize=12)\n",
    "ax.set_yscale('log')\n",
    "ax.yaxis.set_major_formatter(ticker.FormatStrFormatter(\"%d\"))\n",
    "\n",
    "plt.legend(loc='upper right', fontsize=9, ncol=2)\n",
    "\n",
    "plt.savefig('eclipse_scatterplot.pdf', bbox_inches='tight')"
   ]
  },
  {
   "cell_type": "markdown",
   "metadata": {},
   "source": [
    "##### Alternatively, we also may plot the eclipse flux ratios by rank order of temperature on the x-axis."
   ]
  },
  {
   "cell_type": "code",
   "execution_count": 72,
   "metadata": {
    "collapsed": false,
    "deletable": true,
    "editable": true
   },
   "outputs": [
    {
     "data": {
      "image/png": "[encoded data removed]",
      "text/plain": [
       "<matplotlib.figure.Figure at 0x118da97b8>"
      ]
     },
     "metadata": {},
     "output_type": "display_data"
    }
   ],
   "source": [
    "fig, ax = plt.subplots(figsize=(12, 6))\n",
    "\n",
    "x_range = N.arange(1, len(Teq)+1)\n",
    "ranked_Teq = N.argsort(Teq)\n",
    "bgT_array = plt.get_cmap('cet_diverging_isoluminant_cjo_70_c25')((Teq[ranked_Teq] - N.min(Teq))/N.ptp(Teq))\n",
    "\n",
    "for i, band in enumerate(bandpasses):\n",
    "    ax.scatter(x_range, flux_ratio[band][ranked_Teq], c=plot_colors[i], edgecolors='#444444', s=80, alpha=0.7, label=plot_labels[i], zorder=10)\n",
    "\n",
    "for x in x_range:\n",
    "    ax.axvspan(x-0.5, x+0.5, facecolor=bgT_array[x-1], alpha=0.25, zorder=1)\n",
    "\n",
    "ax.axhline(1, c='k', linewidth=0.5, linestyle='dotted', alpha=0.5)\n",
    "\n",
    "ax.set_xlabel(r'Rank by T$_\\mathrm{eq}$', fontsize=24)\n",
    "ax.set_ylabel(r'F$_\\mathrm{obs}$/F$_\\mathrm{eq}$', fontsize=24)\n",
    "ax.tick_params(axis='both', which='major', labelsize=16)\n",
    "ax.set_yscale('log')\n",
    "ax.yaxis.set_major_formatter(ticker.FormatStrFormatter(\"%d\"))\n",
    "\n",
    "ax.legend(loc=(0.68,0.8), fontsize=10, ncol=2)\n",
    "\n",
    "axT = ax.twinx()\n",
    "teq_color = '#609732'\n",
    "axT.step(N.r_[x_range, N.shape(Teq)[0]+1]-0.5,\n",
    "         N.r_[Teq[ranked_Teq].value, N.max(Teq).value],\n",
    "         where='post',\n",
    "         c=teq_color, alpha=0.5, zorder=2)\n",
    "axT.set_ylabel(r'T$_\\mathrm{eq}$ (K)', color=teq_color, fontsize=24)\n",
    "axT.tick_params('y', colors=teq_color, labelsize=16)\n",
    "\n",
    "ax.set_xlim([x_range[0]-0.5, x_range[-1]+0.5])\n",
    "\n",
    "plt.savefig('eclipse_scatterplot_ranked.pdf', bbox_inches='tight')"
   ]
  },
  {
   "cell_type": "markdown",
   "metadata": {
    "deletable": true,
    "editable": true
   },
   "source": [
    "##### Plot a histogram of the eclipse ratios, including a best-fit log-normal distribution."
   ]
  },
  {
   "cell_type": "code",
   "execution_count": null,
   "metadata": {
    "collapsed": false,
    "deletable": true,
    "editable": true
   },
   "outputs": [],
   "source": [
    "hist_arrays = {}\n",
    "for band in bandpasses:\n",
    "    #Plotting cut for the histogram above a ratio of 3.\n",
    "    hist_arrays[band] = (flux_ratio[band])[flux_ratio[band] < 3.]\n",
    "bins = N.histogram(N.hstack(hist_arrays.values()), bins=20)[1]\n",
    "lognorm_fit = lognorm.fit(N.hstack(hist_arrays.values()), loc=N.log(1.4))\n",
    "\n",
    "plt.hist(hist_arrays.values(),\n",
    "         bins=bins, color=plot_colors,\n",
    "         label=plot_labels,\n",
    "         stacked=True, normed=True)\n",
    "\n",
    "x = N.linspace(0.5,3,100)\n",
    "plt.plot(x, lognorm.pdf(x, *lognorm_fit), c='#444444', linewidth=3, linestyle='dotted', alpha=0.5)\n",
    "\n",
    "plt.text(0.95, 0.5, '$x_0=%.3f$\\n$\\mu=%.3f$\\n$\\sigma=%.3f$'%((lognorm_fit[1], N.log(lognorm_fit[2]), lognorm_fit[0])),\n",
    "         transform=plt.gca().transAxes, fontsize=12, horizontalalignment='right', verticalalignment='center')\n",
    "plt.legend(loc='upper right', fontsize=10, ncol=2)\n",
    "plt.xlabel(r'F$_\\mathrm{obs}$/F$_\\mathrm{eq}$', fontsize=16)\n",
    "plt.ylabel(r'Normalized Frequency', fontsize=16)\n",
    "\n",
    "plt.savefig('eclipse_histogram.pdf', bbox_inches='tight')"
   ]
  },
  {
   "cell_type": "markdown",
   "metadata": {
    "deletable": true,
    "editable": true
   },
   "source": [
    "##### We can construct the equivalent of a color-magnitude diagram for eclipse depths, where magnitudes are logarithms of eclipse ratios."
   ]
  },
  {
   "cell_type": "code",
   "execution_count": null,
   "metadata": {
    "collapsed": true,
    "deletable": true,
    "editable": true
   },
   "outputs": [],
   "source": [
    "def CMD(bands):\n",
    "    x = N.log(flux_ratio[bands[1]][N.isfinite(flux_ratio[bands[0]]) & N.isfinite(flux_ratio[bands[1]])])\n",
    "    y = (N.log(flux_ratio[bands[0]])-N.log(flux_ratio[bands[1]]))[N.isfinite(flux_ratio[bands[0]]) & N.isfinite(flux_ratio[bands[1]])]\n",
    "    return {'mag': x, 'color': y}"
   ]
  },
  {
   "cell_type": "code",
   "execution_count": null,
   "metadata": {
    "collapsed": false,
    "deletable": true,
    "editable": true
   },
   "outputs": [],
   "source": [
    "fig, axes = plt.subplots(1, 3, figsize=(12, 3))\n",
    "CMDs = [CMD(['3p6', '4p5']), CMD(['4p5', '5p8']), CMD(['5p8', '8p0'])]\n",
    "plot_colors = ['#E99425', '#E96225', '#D6224C']\n",
    "plot_bands = [['3.6', '4.5'], ['4.5', '5.8'], ['5.8', '8.0']]\n",
    "\n",
    "for i, (ax, cmag) in enumerate(zip(axes, CMDs)):\n",
    "    ax.scatter(cmag['mag'], cmag['color'], c=plot_colors[i])\n",
    "    ax.set_xlabel(r'$\\log \\left(F_\\mathrm{{obs}}/F_\\mathrm{{eq}}\\right)$, {0}$\\mu$m'.format(plot_bands[i][1]),fontsize=16)\n",
    "    ax.set_ylabel(r'{0}$\\mu$m - {1}$\\mu$m'.format(*plot_bands[i]), fontsize=16)\n",
    "    \n",
    "plt.tight_layout()\n",
    "plt.savefig('eclipse_CMD.pdf')"
   ]
  },
  {
   "cell_type": "markdown",
   "metadata": {
    "deletable": true,
    "editable": true
   },
   "source": [
    "***\n",
    "## Planet-specific Modules"
   ]
  },
  {
   "cell_type": "markdown",
   "metadata": {
    "deletable": true,
    "editable": true
   },
   "source": [
    "##### The planet class contains all the methods used for the geometry of the planet-star system."
   ]
  },
  {
   "cell_type": "code",
   "execution_count": null,
   "metadata": {
    "collapsed": false,
    "deletable": true,
    "editable": true
   },
   "outputs": [],
   "source": [
    "from planet_class import Planet"
   ]
  },
  {
   "cell_type": "markdown",
   "metadata": {
    "deletable": true,
    "editable": true
   },
   "source": [
    "##### Import the module for the thermal model."
   ]
  },
  {
   "cell_type": "code",
   "execution_count": null,
   "metadata": {
    "collapsed": true,
    "deletable": true,
    "editable": true
   },
   "outputs": [],
   "source": [
    "from thermal import blackbody as thermal_model"
   ]
  },
  {
   "cell_type": "markdown",
   "metadata": {
    "deletable": true,
    "editable": true
   },
   "source": [
    "##### Import the system properties and data of the desired planet (contained in a Python dictionary in a separate file)."
   ]
  },
  {
   "cell_type": "code",
   "execution_count": null,
   "metadata": {
    "collapsed": false,
    "deletable": true,
    "editable": true
   },
   "outputs": [],
   "source": [
    "#from data.planet.GJ436b import GJ436b as exoplanet\n",
    "#from data.planet.HATP2b import HATP2b as exoplanet\n",
    "#from data.planet.HATP7b import HATP7b as exoplanet\n",
    "#from data.planet.HD80606b import HD80606b as exoplanet\n",
    "#from data.planet.HD149026b import HD149026b as exoplanet\n",
    "#from data.planet.HD189733b import HD189733b as exoplanet\n",
    "from data.planet.HD209458b import HD209458b as exoplanet\n",
    "#from data.planet.WASP12b import WASP12b as exoplanet\n",
    "#from data.planet.WASP14b import WASP14b as exoplanet\n",
    "#from data.planet.WASP18b import WASP18b as exoplanet\n",
    "#from data.planet.WASP19b import WASP19b as exoplanet\n",
    "#from data.planet.WASP33b import WASP33b as exoplanet\n",
    "#from data.planet.WASP43b import WASP43b as exoplanet"
   ]
  },
  {
   "cell_type": "markdown",
   "metadata": {
    "deletable": true,
    "editable": true
   },
   "source": [
    "##### Import the routine to convert surface temperatures to observed planet-star flux ratios in a given band."
   ]
  },
  {
   "cell_type": "code",
   "execution_count": null,
   "metadata": {
    "collapsed": false,
    "deletable": true,
    "editable": true
   },
   "outputs": [],
   "source": [
    "from data.bandpass.response import light_curve"
   ]
  },
  {
   "cell_type": "markdown",
   "metadata": {
    "deletable": true,
    "editable": true
   },
   "source": [
    "##### Import the likelihood calculation routine."
   ]
  },
  {
   "cell_type": "code",
   "execution_count": null,
   "metadata": {
    "collapsed": false,
    "deletable": true,
    "editable": true
   },
   "outputs": [],
   "source": [
    "from stats.gaussian import log_likelihood\n",
    "from stats.metropolis import MCMC"
   ]
  },
  {
   "cell_type": "markdown",
   "metadata": {
    "deletable": true,
    "editable": true
   },
   "source": [
    "##### Import any visualization routines needed."
   ]
  },
  {
   "cell_type": "code",
   "execution_count": null,
   "metadata": {
    "collapsed": false,
    "deletable": true,
    "editable": true
   },
   "outputs": [],
   "source": [
    "from visualization import multi_animation\n",
    "from visualization.style import colors\n",
    "from visualization.lightcurve_plot import LightCurvePlot\n",
    "from visualization.orbit_plot import OrbitPlot\n",
    "from visualization.surface_plot import SurfacePlot"
   ]
  },
  {
   "cell_type": "markdown",
   "metadata": {
    "deletable": true,
    "editable": true
   },
   "source": [
    "##### Create a planet instance with the user-supplied system properties."
   ]
  },
  {
   "cell_type": "code",
   "execution_count": null,
   "metadata": {
    "collapsed": false,
    "deletable": true,
    "editable": true
   },
   "outputs": [],
   "source": [
    "planet = Planet(exoplanet.system_properties)"
   ]
  },
  {
   "cell_type": "markdown",
   "metadata": {
    "deletable": true,
    "editable": true
   },
   "source": [
    "***\n",
    "## Best-Fit Model Light Curves from Existing MCMC Results"
   ]
  },
  {
   "cell_type": "markdown",
   "metadata": {
    "deletable": true,
    "editable": true
   },
   "source": [
    "##### A wrapper function using the thermal model and light curve routines to start with a set of specified parameter values and return a light curve. This function will be passed to the statistical likelihood function."
   ]
  },
  {
   "cell_type": "code",
   "execution_count": null,
   "metadata": {
    "collapsed": true,
    "deletable": true,
    "editable": true
   },
   "outputs": [],
   "source": [
    "def generate_model(parameters, spectral_array):\n",
    "    temperature_map = thermal_model.temperatures(planet=planet, parameters=parameters)\n",
    "    model = light_curve(planet=planet,\n",
    "                        temp_map=temperature_map,\n",
    "                        spectral_array=spectral_array,\n",
    "                        parameters=parameters,\n",
    "                        use_tidal_distortion=False)\n",
    "    return {'temp': temperature_map, 'model': model}"
   ]
  },
  {
   "cell_type": "markdown",
   "metadata": {
    "deletable": true,
    "editable": true
   },
   "source": [
    "##### If there are saved MCMC outputs we want to use, import them here."
   ]
  },
  {
   "cell_type": "code",
   "execution_count": null,
   "metadata": {
    "collapsed": false,
    "deletable": true,
    "editable": true
   },
   "outputs": [],
   "source": [
    "mcmc_file = N.load('files/{0}_mcmc.npy'.format(planet.name.replace(\" \", \"\")), encoding='latin1', fix_imports=True)[()]\n",
    "mcmc_uncertainty_file = N.load('files/{0}_mcmc_uncertainties.npy'.format(planet.name.replace(\" \", \"\")), encoding='latin1', fix_imports=True)[()]"
   ]
  },
  {
   "cell_type": "markdown",
   "metadata": {
    "deletable": true,
    "editable": true
   },
   "source": [
    "##### For the MCMC routine we feed the parameters in as a list. The parameter order is:\n",
    "1. Rotation period\n",
    "2. Radiative timescale\n",
    "3. Minimum temperature\n",
    "4. Albedo"
   ]
  },
  {
   "cell_type": "code",
   "execution_count": null,
   "metadata": {
    "collapsed": false,
    "deletable": true,
    "editable": true
   },
   "outputs": [],
   "source": [
    "mcmc_fit = {}\n",
    "mcmc_uncertainty = {}\n",
    "sigma_upper = {}\n",
    "sigma_lower = {}\n",
    "\n",
    "for band in exoplanet.data:\n",
    "    mcmc_fit[band] = mcmc_file[band]['pos'][-1].squeeze() * [planet.pseudosynchronous_period(), U.hr, U.K, 1]\n",
    "    print('Band: {0} um'.format(band.replace('p', '.')))\n",
    "    print('Best-fit parameters:\\n Rotation period = {0} ({4} PSR)\\n Radiative timescale @ {5} = {1}\\n Minimum temperature = {2}\\n Albedo = {3}\\n'.format(*mcmc_fit[band], mcmc_fit[band][0]/planet.pseudosynchronous_period(), planet.orbital_equilibrium_temperature().decompose()))\n",
    "    \n",
    "    mcmc_uncertainty[band] = mcmc_uncertainty_file[band]['pos'].squeeze()\n",
    "    param_upper = [(mcmc_uncertainty[band].T[i])[mcmc_uncertainty[band].T[i] > fit] for i, fit in enumerate(mcmc_uncertainty[band][0])]\n",
    "    param_lower = [(mcmc_uncertainty[band].T[i])[mcmc_uncertainty[band].T[i] < fit] for i, fit in enumerate(mcmc_uncertainty[band][0])]\n",
    "    sigma_upper[band] = N.array([N.percentile(p, 68) - mcmc_uncertainty[band][0][i] for i, p in enumerate(param_upper)]) * [planet.pseudosynchronous_period(), U.hr, U.K, 1]\n",
    "    sigma_lower[band] = N.array([N.percentile(p, 100-68) - mcmc_uncertainty[band][0][i] for i, p in enumerate(param_lower)]) * [planet.pseudosynchronous_period(), U.hr, U.K, 1]\n",
    "    print('1-sigma bounds:\\n Rotation period = +{0} ({4} PSR), {5} ({9} PSR)\\n Radiative timescale @ {10} = +{1}, {6}\\n Minimum temperature = +{2}, {7}\\n Albedo = +{3}, {8}\\n'.format(*sigma_upper[band], sigma_upper[band][0]/planet.pseudosynchronous_period(), *sigma_lower[band], sigma_lower[band][0]/planet.pseudosynchronous_period(), planet.orbital_equilibrium_temperature().decompose()))"
   ]
  },
  {
   "cell_type": "markdown",
   "metadata": {
    "deletable": true,
    "editable": true
   },
   "source": [
    "##### Quick plots showing the trajectory of the MCMC walker(s) in each of the parameter dimensions, as well as the evolution of the likelihood."
   ]
  },
  {
   "cell_type": "code",
   "execution_count": null,
   "metadata": {
    "collapsed": false,
    "deletable": true,
    "editable": true
   },
   "outputs": [],
   "source": [
    "fig, axes = plt.subplots(5)\n",
    "for i in range(4):\n",
    "    for band in exoplanet.data:\n",
    "        axes[i].plot((mcmc_file[band]['pos'].T)[i][0],color=colors.color_datlab[band])\n",
    "        axes[4].plot(mcmc_file[band]['logl'],color=colors.color_datlab[band])"
   ]
  },
  {
   "cell_type": "markdown",
   "metadata": {
    "deletable": true,
    "editable": true
   },
   "source": [
    "##### Pull the most favorable parameter values and make a grid of that single set to plot the flux curve(s). Then generate models for the most favorable parameters in each band."
   ]
  },
  {
   "cell_type": "code",
   "execution_count": null,
   "metadata": {
    "collapsed": false,
    "deletable": true,
    "editable": true
   },
   "outputs": [],
   "source": [
    "best_parameters = {}\n",
    "best_rotation = {}\n",
    "best_paramgrid = {}\n",
    "best_model = {}\n",
    "\n",
    "for band in exoplanet.data:\n",
    "    best_parameters[band] = mcmc_fit[band]\n",
    "    best_rotation[band] = best_parameters[band][0]\n",
    "    best_paramgrid[band] = N.meshgrid(*best_parameters[band])\n",
    "    \n",
    "    planet.set_resolution(longitude_resolution = 72,\n",
    "                          latitude_resolution = 36,\n",
    "                          time_resolution = 200,\n",
    "                          num_orbits = 5)\n",
    "    \n",
    "    best_model[band] = generate_model(best_paramgrid[band], spitzer_IRAC.bandpass[band])"
   ]
  },
  {
   "cell_type": "markdown",
   "metadata": {
    "deletable": true,
    "editable": true
   },
   "source": [
    "##### For our transit depth analysis, we can optionally modify the data by translating the in-transit data up by the geometric transit depth. Then, use delta_data instead of exoplanet.data."
   ]
  },
  {
   "cell_type": "code",
   "execution_count": null,
   "metadata": {
    "collapsed": false,
    "deletable": true,
    "editable": true
   },
   "outputs": [],
   "source": [
    "delta_data = {}\n",
    "for band in exoplanet.data:\n",
    "    delta_data[band] = {'t':exoplanet.data[band]['t'],\n",
    "                        'flux': None,\n",
    "                        'occultation':exoplanet.data[band]['occultation']}\n",
    "\n",
    "transit_dip = (planet.rp/planet.R)**2\n",
    "print('Geometric transit depth: {0}'.format(transit_dip))\n",
    "\n",
    "for band in delta_data:\n",
    "    delta_data[band]['flux'] = N.where(exoplanet.data[band]['occultation']==b't',\n",
    "                                       exoplanet.data[band]['flux'] + transit_dip,\n",
    "                                       exoplanet.data[band]['flux'])"
   ]
  },
  {
   "cell_type": "markdown",
   "metadata": {
    "deletable": true,
    "editable": true
   },
   "source": [
    "##### Initialize the light curve with our best-fit models in each model, then draw with arbitrary smoothing for the shaded region representing rough 1-sigma boundaries on the data."
   ]
  },
  {
   "cell_type": "code",
   "execution_count": null,
   "metadata": {
    "collapsed": false,
    "deletable": true,
    "editable": true
   },
   "outputs": [],
   "source": [
    "lightcurve_plot = LightCurvePlot(planet=planet,\n",
    "                                 data=exoplanet.data,\n",
    "                                 model=best_model,\n",
    "                                 parameters=best_parameters)"
   ]
  },
  {
   "cell_type": "code",
   "execution_count": null,
   "metadata": {
    "collapsed": true,
    "deletable": true,
    "editable": true
   },
   "outputs": [],
   "source": [
    "smoothing_parameters = {'GJ 436 b': {'8p0': 8.5e-7},\n",
    "                        'HAT-P-2 b': {'3p6':9e-6, '4p5': 6e-6, '8p0': 8e-5},\n",
    "                        'HAT-P-7 b': {'3p6':2e-5, '4p5': 1.1e-5},\n",
    "                        'HD 80606 b': {'4p5':6.5e-7, '8p0': 5e-6},\n",
    "                        'HD 149026 b': {'3p6':2e-6, '4p5': 1.6e-6},\n",
    "                        'HD 189733 b': {'3p6':2e-6, '4p5': 1.5e-6, '8p0': 7.5e-6},\n",
    "                        'HD 209458 b': {'4p5': 8e-6},\n",
    "                        'WASP-12 b': {'3p6':2.25e-4, '4p5': 2.25e-4},\n",
    "                        'WASP-14 b': {'3p6':2.5e-5, '4p5': 2.5e-5},\n",
    "                        'WASP-18 b': {'3p6':1.5e-5, '4p5': 3e-5},\n",
    "                        'WASP-19 b': {'3p6':1.25e-4, '4p5': 1.25e-4},\n",
    "                        'WASP-33 b': {'3p6':7e-5, '4p5': 6e-5},\n",
    "                        'WASP-43 b': {'3p6':9.25e-5, '4p5': 3e-5}}"
   ]
  },
  {
   "cell_type": "code",
   "execution_count": null,
   "metadata": {
    "collapsed": false,
    "deletable": true,
    "editable": true
   },
   "outputs": [],
   "source": [
    "fig, ax = plt.subplots()\n",
    "lightcurve_plot.draw(axis=ax,\n",
    "                     s=smoothing_parameters[planet.name],\n",
    "                     phase_overlap=0.25,\n",
    "                     filetypes=['pdf'],\n",
    "                     combo=False,\n",
    "                     save=True)"
   ]
  },
  {
   "cell_type": "markdown",
   "metadata": {
    "deletable": true,
    "editable": true
   },
   "source": [
    "***\n",
    "## Orbit and Surface Plots"
   ]
  },
  {
   "cell_type": "markdown",
   "metadata": {
    "deletable": true,
    "editable": true
   },
   "source": [
    "##### Draw a top-down orbit plot with equally time-spaced points."
   ]
  },
  {
   "cell_type": "code",
   "execution_count": null,
   "metadata": {
    "collapsed": false,
    "deletable": true,
    "editable": true
   },
   "outputs": [],
   "source": [
    "orbit_plot = OrbitPlot(planet, exoplanet.data, time_resolution = 32)"
   ]
  },
  {
   "cell_type": "code",
   "execution_count": null,
   "metadata": {
    "collapsed": false,
    "deletable": true,
    "editable": true,
    "scrolled": false
   },
   "outputs": [],
   "source": [
    "fig, ax = plt.subplots()\n",
    "orbit_plot.draw_static(axis=ax, filetypes=['pdf'], save=True)"
   ]
  },
  {
   "cell_type": "markdown",
   "metadata": {
    "deletable": true,
    "editable": true
   },
   "source": [
    "##### Draw a projection of the planet surface with a quantity (e.g. temperature) plotted as a color map. Since we're going to animate this with the orbit plot, which has a time resolution different from the generated model time resolution, we need to select out every nth timestep, n given by the ratio."
   ]
  },
  {
   "cell_type": "code",
   "execution_count": null,
   "metadata": {
    "collapsed": false,
    "deletable": true,
    "editable": true
   },
   "outputs": [],
   "source": [
    "selected_band = '4p5'\n",
    "surface_plot = SurfacePlot(planet,\n",
    "                           rotation_period = best_rotation[selected_band]\n",
    "                           map_array = (best_model[selected_band]['temp'].reshape(planet.time_resolution*planet.num_orbits,\n",
    "                                                                          planet.latitude_resolution+1,\n",
    "                                                                          planet.longitude_resolution+1)),\n",
    "                           time_resolution = 32,\n",
    "                           start_orbit = 3)"
   ]
  },
  {
   "cell_type": "markdown",
   "metadata": {
    "deletable": true,
    "editable": true
   },
   "source": [
    "##### The multi_animation routine takes multiple visualizations and animates them together over a time series."
   ]
  },
  {
   "cell_type": "code",
   "execution_count": null,
   "metadata": {
    "collapsed": false,
    "deletable": true,
    "editable": true
   },
   "outputs": [],
   "source": [
    "orbit_plot.set_rotation_period(planet.P)\n",
    "orbit_plot.set_num_orbits(3)\n",
    "animation = multi_animation.draw(planet,\n",
    "                                 plot_objects = [orbit_plot, surface_plot],\n",
    "                                 num_orbits = 3)"
   ]
  },
  {
   "cell_type": "markdown",
   "metadata": {
    "deletable": true,
    "editable": true
   },
   "source": [
    "***\n",
    "## Miscellaneous Plots"
   ]
  },
  {
   "cell_type": "markdown",
   "metadata": {
    "deletable": true,
    "editable": true
   },
   "source": [
    "##### One interesting plot is to look at a map of likelihoods in a 2D slice of parameter space. Here, we make a plot of rotation period versus radiative timescale, using an existing grid search with the other 2 parameters (minimum temperature, albedo) at values fixed to their best fits from MCMC. This shows us how degenerate the selection of the 2 timescale parameters is."
   ]
  },
  {
   "cell_type": "code",
   "execution_count": null,
   "metadata": {
    "collapsed": false,
    "deletable": true,
    "editable": true
   },
   "outputs": [],
   "source": [
    "degeneracy_file = N.load('files/{0}_grid.npy'.format(planet.name.replace(\" \", \"\")), encoding='latin1', fix_imports=True)[()]"
   ]
  },
  {
   "cell_type": "code",
   "execution_count": null,
   "metadata": {
    "collapsed": false,
    "deletable": true,
    "editable": true
   },
   "outputs": [],
   "source": [
    "pars = degeneracy_file['par'][:]\n",
    "pars[0] = (pars[0]/planet.P).decompose()\n",
    "\n",
    "degeneracy_grid = degeneracy_file['logl']['4p5'].squeeze()\n",
    "best_index = N.unravel_index(N.argmin(degeneracy_grid), (len(pars[0]), len(pars[1])))\n",
    "logl_min = N.nanmin(degeneracy_grid)\n",
    "\n",
    "x, y = N.mgrid[pars[0][0]:pars[0][-1]:len(pars[0])*1j, pars[1][0]:pars[1][-1]:len(pars[1])*1j]\n",
    "plt.pcolor(x, y, degeneracy_grid/logl_min, cmap='cet_fire_r', vmin=1, vmax=1.5)\n",
    "cb = plt.colorbar()\n",
    "cb.set_label('Scaled Log Likelihood', fontsize=16)\n",
    "plt.xlabel(r'$P_{\\mathrm{rot}}/P_{\\mathrm{orb}}$', fontsize=16)\n",
    "plt.ylabel(r'$\\tau_{\\mathrm{rad}}$ (hr)', fontsize=16)\n",
    "plt.savefig('{0}_degeneracy.pdf'.format(planet.name.replace(\" \", \"\")), bbox_inches='tight', transparent=True)"
   ]
  }
 ],
 "metadata": {
  "anaconda-cloud": {},
  "kernelspec": {
   "display_name": "Python 3",
   "language": "python",
   "name": "python3"
  },
  "language_info": {
   "codemirror_mode": {
    "name": "ipython",
    "version": 3
   },
   "file_extension": ".py",
   "mimetype": "text/x-python",
   "name": "python",
   "nbconvert_exporter": "python",
   "pygments_lexer": "ipython3",
   "version": "3.6.0"
  }
 },
 "nbformat": 4,
 "nbformat_minor": 0
}
