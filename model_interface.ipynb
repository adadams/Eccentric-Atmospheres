{
 "cells": [
  {
   "cell_type": "markdown",
   "metadata": {
    "collapsed": true,
    "deletable": true,
    "editable": true
   },
   "source": [
    "# Thermal Radiative Model Interface"
   ]
  },
  {
   "cell_type": "markdown",
   "metadata": {
    "deletable": true,
    "editable": true
   },
   "source": [
    "This notebook will produce relevant figures from the accompanying publication. The first section uses a data file of measured secondary eclipses. The remaining sections are specific to a single planet. It imports existing MCMC results for likelihood optimization of the thermal model parameters."
   ]
  },
  {
   "cell_type": "markdown",
   "metadata": {
    "deletable": true,
    "editable": true
   },
   "source": [
    "***\n",
    "##### Import shared packages."
   ]
  },
  {
   "cell_type": "code",
   "execution_count": 1,
   "metadata": {
    "collapsed": false,
    "deletable": true,
    "editable": true
   },
   "outputs": [],
   "source": [
    "import astropy.constants as C\n",
    "import astropy.units as U\n",
    "from astropy.analytic_functions import blackbody_lambda\n",
    "import numpy as N\n",
    "from scipy.stats import lognorm\n",
    "\n",
    "%matplotlib inline\n",
    "import matplotlib\n",
    "from matplotlib import pyplot as plt\n",
    "plt.rc('text', usetex=True)\n",
    "plt.rc('font', family='serif')\n",
    "from colorcet import cm\n",
    "\n",
    "import datetime"
   ]
  },
  {
   "cell_type": "markdown",
   "metadata": {
    "deletable": true,
    "editable": true
   },
   "source": [
    "***\n",
    "## Secondary Eclipse Plots"
   ]
  },
  {
   "cell_type": "markdown",
   "metadata": {
    "deletable": true,
    "editable": true
   },
   "source": [
    "##### Import instrumental response data."
   ]
  },
  {
   "cell_type": "code",
   "execution_count": 2,
   "metadata": {
    "collapsed": false,
    "deletable": true,
    "editable": true
   },
   "outputs": [],
   "source": [
    "from data.bandpass.spitzer_IRAC import spitzer_IRAC as spitzer_IRAC\n",
    "from data.bandpass.JHKs.TwoMASS import TwoMASS as TwoMASS"
   ]
  },
  {
   "cell_type": "markdown",
   "metadata": {
    "deletable": true,
    "editable": true
   },
   "source": [
    "##### Import data on measured eclipse depths in a variety of photometric bands, along with some system properties. We want to calculate the ratio of the measured depths to what the depth should be if the planet were radiating uniformly at its theoretical equilibrium temperature."
   ]
  },
  {
   "cell_type": "code",
   "execution_count": null,
   "metadata": {
    "collapsed": true,
    "deletable": true,
    "editable": true
   },
   "outputs": [],
   "source": [
    "eclipse_file = N.genfromtxt('files/sec_eclipses.csv', delimiter=',', names=True)"
   ]
  },
  {
   "cell_type": "code",
   "execution_count": null,
   "metadata": {
    "collapsed": true,
    "deletable": true,
    "editable": true
   },
   "outputs": [],
   "source": [
    "Teq = eclipse_file['TEFF'] * N.sqrt(0.5/eclipse_file['AR']) * U.K\n",
    "Rs = eclipse_file['RSTAR'] * C.R_sun\n",
    "Rp = eclipse_file['R'] * C.R_jup"
   ]
  },
  {
   "cell_type": "code",
   "execution_count": null,
   "metadata": {
    "collapsed": false,
    "deletable": true,
    "editable": true
   },
   "outputs": [],
   "source": [
    "flux_ratio = {}\n",
    "bandpasses = {**spitzer_IRAC.bandpass, **TwoMASS.bandpass}\n",
    "for band in bandpasses:\n",
    "    I_eq = N.array([N.dot(blackbody_lambda(in_x = bandpasses[band]['wavelength']*U.um, temperature = T), bandpasses[band]['weighted_spectrum']) for T in Teq])\n",
    "    I_star = N.array([N.dot(blackbody_lambda(in_x = bandpasses[band]['wavelength']*U.um, temperature = T), bandpasses[band]['weighted_spectrum']) for T in eclipse_file['TEFF']*U.K])\n",
    "    F_th = I_eq / I_star * (Rp/Rs)**2\n",
    "    flux_ratio[band] = eclipse_file[band] / F_th"
   ]
  },
  {
   "cell_type": "markdown",
   "metadata": {
    "deletable": true,
    "editable": true
   },
   "source": [
    "##### Plot a scatterplot of the ratio of observed eclipse depths to the thermal depths, as a function of equilibrium temperature."
   ]
  },
  {
   "cell_type": "code",
   "execution_count": null,
   "metadata": {
    "collapsed": false,
    "deletable": true,
    "editable": true
   },
   "outputs": [],
   "source": [
    "fig, ax = plt.subplots()\n",
    "plt.xlabel(r'T$_\\mathrm{eq}$ (K)',fontsize=16)\n",
    "plt.ylabel(r'F$_\\mathrm{obs}$/F$_\\mathrm{eq}$',fontsize=16)\n",
    "ax.scatter(Teq, flux_ratio['3p6'], c='#fee090', label=r'3.6 $\\mu$m')\n",
    "ax.scatter(Teq, flux_ratio['4p5'], c='#fdae61', label=r'4.5 $\\mu$m')\n",
    "ax.scatter(Teq, flux_ratio['5p8'], c='#f46d43', label=r'5.8 $\\mu$m')\n",
    "ax.scatter(Teq, flux_ratio['8p0'], c='#d73027', label=r'8.0 $\\mu$m')\n",
    "ax.scatter(Teq, flux_ratio['J'], c='#74add1', label=r'$J$')\n",
    "ax.scatter(Teq, flux_ratio['H'], c='#abd9e9', label=r'$H$')\n",
    "ax.scatter(Teq, flux_ratio['Ks'], c='#e0f3f8', label=r'$K_s$')\n",
    "ax.axhline(1, c='k', linewidth=0.5, linestyle='dotted', alpha=0.5)\n",
    "ax.set_yscale('log')\n",
    "ax.yaxis.set_major_formatter(matplotlib.ticker.FormatStrFormatter(\"%d\"))\n",
    "plt.legend(loc='upper right', fontsize=8, ncol=2)\n",
    "plt.savefig('eclipse_scatterplot.pdf')"
   ]
  },
  {
   "cell_type": "markdown",
   "metadata": {
    "deletable": true,
    "editable": true
   },
   "source": [
    "##### Plot a histogram of the eclipse ratios, including a best-fit log-normal distribution."
   ]
  },
  {
   "cell_type": "code",
   "execution_count": null,
   "metadata": {
    "collapsed": false,
    "deletable": true,
    "editable": true
   },
   "outputs": [],
   "source": [
    "hist_arrays = {}\n",
    "for band in {**spitzer_IRAC.bandpass, **TwoMASS.bandpass}:\n",
    "    #Plotting cut for the histogram above a ratio of 3.\n",
    "    hist_arrays[band] = (flux_ratio[band])[flux_ratio[band] < 3.]\n",
    "bins = N.histogram(N.hstack(hist_arrays.values()), bins=20)[1]\n",
    "x = N.linspace(0.5,3,100)\n",
    "lognorm_fit = lognorm.fit(N.hstack((hist_arrays['3p6'], hist_arrays['4p5'], hist_arrays['5p8'], hist_arrays['8p0'])), loc=N.log(1.4))\n",
    "plt.hist(hist_arrays.values(),\n",
    "         bins=bins, color=('#fee090', '#fdae61', '#f46d43', '#d73027', '#74add1', '#abd9e9', '#e0f3f8'),\n",
    "         label=((r'3.6 $\\mu$m', r'4.5 $\\mu$m', r'5.8 $\\mu$m', r'8.0 $\\mu$m', '$J$', '$H$', '$K_s$')),\n",
    "         stacked=True, normed=True)\n",
    "plt.plot(x, lognorm.pdf(x, lognorm_fit[0], lognorm_fit[1], lognorm_fit[2]),\n",
    "         c='#444444', linewidth=3, linestyle='dotted', alpha=0.5)\n",
    "plt.text(0.95, 0.5, '$x_0=%.3f$\\n$\\mu=%.3f$\\n$\\sigma=%.3f$'%((lognorm_fit[1], N.log(lognorm_fit[2]), lognorm_fit[0])),\n",
    "         transform=plt.gca().transAxes, fontsize=12, horizontalalignment='right', verticalalignment='center')\n",
    "plt.legend(loc='upper right', fontsize=12, ncol=2)\n",
    "plt.xlabel(r'F$_\\mathrm{obs}$/F$_\\mathrm{eq}$',fontsize=16)\n",
    "plt.ylabel(r'Normalized Frequency',fontsize=16)\n",
    "plt.savefig('eclipse_histogram.pdf')"
   ]
  },
  {
   "cell_type": "markdown",
   "metadata": {
    "deletable": true,
    "editable": true
   },
   "source": [
    "##### We can construct the equivalent of a color-magnitude diagram for eclipse depths, where magnitudes are logarithms of eclipse ratios."
   ]
  },
  {
   "cell_type": "code",
   "execution_count": null,
   "metadata": {
    "collapsed": true,
    "deletable": true,
    "editable": true
   },
   "outputs": [],
   "source": [
    "def CMD(bands):\n",
    "    x = N.log(flux_ratio[bands[1]][N.isfinite(flux_ratio[bands[0]]) & N.isfinite(flux_ratio[bands[1]])])\n",
    "    teff = eclipse_file['ECC'][N.isfinite(flux_ratio[bands[0]]) & N.isfinite(flux_ratio[bands[1]])]\n",
    "    y = (N.log(flux_ratio[bands[0]])-N.log(flux_ratio[bands[1]]))[N.isfinite(flux_ratio[bands[0]]) & N.isfinite(flux_ratio[bands[1]])]\n",
    "    return {'mag': x, 'color': y, 'teff': teff}"
   ]
  },
  {
   "cell_type": "code",
   "execution_count": null,
   "metadata": {
    "collapsed": false,
    "deletable": true,
    "editable": true
   },
   "outputs": [],
   "source": [
    "fig, axes = plt.subplots(1, 3, figsize=(12, 3))\n",
    "CMDs = [CMD(['3p6', '4p5']), CMD(['4p5', '5p8']), CMD(['5p8', '8p0'])]\n",
    "plot_colors = ['#E99425', '#E96225', '#D6224C']\n",
    "plot_bands = [['3.6', '4.5'], ['4.5', '5.8'], ['5.8', '8.0']]\n",
    "\n",
    "for i, (ax, cmag) in enumerate(zip(axes, CMDs)):\n",
    "    ax.scatter(cmag['mag'], cmag['color'], c=plot_colors[i])\n",
    "    ax.set_xlabel(r'$\\log \\left(F_\\mathrm{{obs}}/F_\\mathrm{{eq}}\\right)$, {0}$\\mu$m'.format(plot_bands[i][1]),fontsize=16)\n",
    "    ax.set_ylabel(r'{0}$\\mu$m - {1}$\\mu$m'.format(*plot_bands[i]), fontsize=16)\n",
    "    \n",
    "plt.tight_layout()\n",
    "plt.savefig('eclipse_CMD.pdf')"
   ]
  },
  {
   "cell_type": "markdown",
   "metadata": {
    "deletable": true,
    "editable": true
   },
   "source": [
    "***\n",
    "## Planet-specific Modules"
   ]
  },
  {
   "cell_type": "markdown",
   "metadata": {
    "deletable": true,
    "editable": true
   },
   "source": [
    "##### The planet class contains all the methods used for the geometry of the planet-star system."
   ]
  },
  {
   "cell_type": "code",
   "execution_count": 3,
   "metadata": {
    "collapsed": false,
    "deletable": true,
    "editable": true
   },
   "outputs": [],
   "source": [
    "from planet_class import Planet"
   ]
  },
  {
   "cell_type": "markdown",
   "metadata": {
    "deletable": true,
    "editable": true
   },
   "source": [
    "##### Import the module for the thermal model."
   ]
  },
  {
   "cell_type": "code",
   "execution_count": 4,
   "metadata": {
    "collapsed": true,
    "deletable": true,
    "editable": true
   },
   "outputs": [],
   "source": [
    "from thermal import blackbody as thermal_model"
   ]
  },
  {
   "cell_type": "markdown",
   "metadata": {
    "deletable": true,
    "editable": true
   },
   "source": [
    "##### Import the system properties and data of the desired planet (contained in a Python dictionary in a separate file)."
   ]
  },
  {
   "cell_type": "code",
   "execution_count": 5,
   "metadata": {
    "collapsed": false,
    "deletable": true,
    "editable": true
   },
   "outputs": [],
   "source": [
    "from data.planet.GJ436b import GJ436b as exoplanet\n",
    "#from data.planet.HATP2b import HATP2b as exoplanet\n",
    "#from data.planet.HATP7b import HATP7b as exoplanet\n",
    "#from data.planet.HD80606b import HD80606b as exoplanet\n",
    "#from data.planet.HD189733b import HD189733b as exoplanet\n",
    "#from data.planet.HD209458b import HD209458b as exoplanet\n",
    "#from data.planet.WASP12b import WASP12b as exoplanet\n",
    "#from data.planet.WASP14b import WASP14b as exoplanet\n",
    "#from data.planet.WASP18b import WASP18b as exoplanet\n",
    "#from data.planet.WASP19b import WASP19b as exoplanet\n",
    "#from data.planet.WASP43b import WASP43b as exoplanet"
   ]
  },
  {
   "cell_type": "markdown",
   "metadata": {
    "deletable": true,
    "editable": true
   },
   "source": [
    "##### Import the routine to convert surface temperatures to observed planet-star flux ratios in a given band."
   ]
  },
  {
   "cell_type": "code",
   "execution_count": 6,
   "metadata": {
    "collapsed": false,
    "deletable": true,
    "editable": true
   },
   "outputs": [],
   "source": [
    "from data.bandpass.response import light_curve"
   ]
  },
  {
   "cell_type": "markdown",
   "metadata": {
    "deletable": true,
    "editable": true
   },
   "source": [
    "##### Import the likelihood calculation routine."
   ]
  },
  {
   "cell_type": "code",
   "execution_count": 7,
   "metadata": {
    "collapsed": false,
    "deletable": true,
    "editable": true
   },
   "outputs": [],
   "source": [
    "from stats.gaussian import log_likelihood\n",
    "from stats.metropolis import MCMC"
   ]
  },
  {
   "cell_type": "markdown",
   "metadata": {
    "deletable": true,
    "editable": true
   },
   "source": [
    "##### Import any visualization routines needed."
   ]
  },
  {
   "cell_type": "code",
   "execution_count": 8,
   "metadata": {
    "collapsed": false,
    "deletable": true,
    "editable": true
   },
   "outputs": [
    {
     "data": {
      "image/png": "[encoded data removed]",
      "text/plain": [
       "<matplotlib.figure.Figure at 0x1144ae048>"
      ]
     },
     "metadata": {},
     "output_type": "display_data"
    }
   ],
   "source": [
    "from visualization import multi_animation\n",
    "from visualization.style import colors\n",
    "from visualization.lightcurve_plot import LightCurvePlot\n",
    "from visualization.orbit_plot import OrbitPlot\n",
    "from visualization.surface_plot import SurfacePlot"
   ]
  },
  {
   "cell_type": "markdown",
   "metadata": {
    "deletable": true,
    "editable": true
   },
   "source": [
    "##### Create a planet instance with the user-supplied system properties."
   ]
  },
  {
   "cell_type": "code",
   "execution_count": 9,
   "metadata": {
    "collapsed": false,
    "deletable": true,
    "editable": true
   },
   "outputs": [],
   "source": [
    "planet = Planet(exoplanet.system_properties)"
   ]
  },
  {
   "cell_type": "markdown",
   "metadata": {
    "deletable": true,
    "editable": true
   },
   "source": [
    "***\n",
    "## Best-Fit Model Light Curves from Existing MCMC Results"
   ]
  },
  {
   "cell_type": "markdown",
   "metadata": {
    "deletable": true,
    "editable": true
   },
   "source": [
    "##### A wrapper function using the thermal model and light curve routines to start with a set of specified parameter values and return a light curve. This function will be passed to the statistical likelihood function."
   ]
  },
  {
   "cell_type": "code",
   "execution_count": 10,
   "metadata": {
    "collapsed": true,
    "deletable": true,
    "editable": true
   },
   "outputs": [],
   "source": [
    "def generate_model(parameters, spectral_array):\n",
    "    temperature_map = thermal_model.temperatures(planet=planet, parameters=parameters)\n",
    "    model = light_curve(planet=planet,\n",
    "                        temp_map=temperature_map,\n",
    "                        spectral_array=spectral_array,\n",
    "                        parameters=parameters,\n",
    "                        use_tidal_distortion=False)\n",
    "    return {'temp': temperature_map, 'model': model}"
   ]
  },
  {
   "cell_type": "markdown",
   "metadata": {
    "deletable": true,
    "editable": true
   },
   "source": [
    "##### If there are saved MCMC outputs we want to use, import them here."
   ]
  },
  {
   "cell_type": "code",
   "execution_count": 11,
   "metadata": {
    "collapsed": false,
    "deletable": true,
    "editable": true
   },
   "outputs": [],
   "source": [
    "mc_file = N.load('files/{0}_mc.npy'.format(planet.name.replace(\" \", \"\")), encoding='latin1', fix_imports=True)[()]"
   ]
  },
  {
   "cell_type": "markdown",
   "metadata": {
    "deletable": true,
    "editable": true
   },
   "source": [
    "##### For the MCMC routine we feed the parameters in as a list. The parameter order is:\n",
    "1. Rotation period\n",
    "2. Radiative timescale\n",
    "3. Minimum temperature\n",
    "4. Albedo"
   ]
  },
  {
   "cell_type": "code",
   "execution_count": 89,
   "metadata": {
    "collapsed": false,
    "deletable": true,
    "editable": true
   },
   "outputs": [
    {
     "name": "stdout",
     "output_type": "stream",
     "text": [
      "Band: 8.0 um\n",
      "Best-fit parameters:\n",
      " Rotation period = 0.8086486846016375 d (0.3539697569084489 PSR)\n",
      " Radiative timescale @ 1000K = 1.3209196317621252 h\n",
      " Minimum temperature = 589.3261890325834 K\n",
      " Albedo = 0.06194697270382872\n"
     ]
    }
   ],
   "source": [
    "mc_fit = {}\n",
    "for band in exoplanet.data:\n",
    "    mc_fit[band] = mc_file[band]['pos'][-1].reshape(4) * [planet.pseudosynchronous_period(), U.hr, U.K, 1]\n",
    "    print('Band: {0} um'.format(band.replace('p', '.')))\n",
    "    print('Best-fit parameters:\\n Rotation period = {0} ({4} PSR)\\n Radiative timescale @ 1000K = {1}\\n Minimum temperature = {2}\\n Albedo = {3}'.format(*mc_fit[band], mc_fit[band][0]/planet.pseudosynchronous_period()))"
   ]
  },
  {
   "cell_type": "markdown",
   "metadata": {
    "deletable": true,
    "editable": true
   },
   "source": [
    "##### Pull the most favorable parameter values and make a grid of that single set to plot the flux curve(s). Then generate models for the most favorable parameters in each band."
   ]
  },
  {
   "cell_type": "code",
   "execution_count": 61,
   "metadata": {
    "collapsed": false,
    "deletable": true,
    "editable": true
   },
   "outputs": [
    {
     "name": "stderr",
     "output_type": "stream",
     "text": [
      "/Users/arthur/anaconda/lib/python3.6/site-packages/astropy/units/quantity.py:951: RuntimeWarning: divide by zero encountered in true_divide\n",
      "  return super(Quantity, self).__truediv__(other)\n"
     ]
    }
   ],
   "source": [
    "best_parameters = {}\n",
    "best_rotation = {}\n",
    "best_paramgrid = {}\n",
    "best_model = {}\n",
    "\n",
    "for band in exoplanet.data:\n",
    "    best_parameters[band] = mc_fit[band]\n",
    "    best_rotation[band] = best_parameters[band][0]\n",
    "    best_paramgrid[band] = N.meshgrid(*best_parameters[band])\n",
    "    \n",
    "    planet.set_resolution(longitude_resolution = 72,\n",
    "                          latitude_resolution = 36,\n",
    "                          time_resolution = 200,\n",
    "                          num_orbits = 3)\n",
    "    \n",
    "    best_model[band] = generate_model(best_paramgrid[band], spitzer_IRAC.bandpass[band])"
   ]
  },
  {
   "cell_type": "markdown",
   "metadata": {
    "deletable": true,
    "editable": true
   },
   "source": [
    "##### For our transit depth analysis, we can optionally modify the data by translating the in-transit data up by the geometric transit depth. Then, use delta_data instead of exoplanet.data."
   ]
  },
  {
   "cell_type": "code",
   "execution_count": 62,
   "metadata": {
    "collapsed": false,
    "deletable": true,
    "editable": true
   },
   "outputs": [
    {
     "name": "stdout",
     "output_type": "stream",
     "text": [
      "Geometric transit depth: 0.006836754911483927\n"
     ]
    }
   ],
   "source": [
    "delta_data = {}\n",
    "for band in exoplanet.data:\n",
    "    delta_data[band] = {'t':exoplanet.data[band]['t'],\n",
    "                        'flux': None,\n",
    "                        'occultation':exoplanet.data[band]['occultation']}\n",
    "\n",
    "transit_dip = (planet.rp/planet.R)**2\n",
    "print('Geometric transit depth: {0}'.format(transit_dip))\n",
    "\n",
    "for band in delta_data:\n",
    "    delta_data[band]['flux'] = N.where(exoplanet.data[band]['occultation']==b't',\n",
    "                                       exoplanet.data[band]['flux'] + transit_dip,\n",
    "                                       exoplanet.data[band]['flux'])"
   ]
  },
  {
   "cell_type": "markdown",
   "metadata": {
    "deletable": true,
    "editable": true
   },
   "source": [
    "##### Initialize the light curve with our best-fit models in each model, then draw with arbitrary smoothing for the shaded region representing rough 1-sigma boundaries on the data."
   ]
  },
  {
   "cell_type": "code",
   "execution_count": 63,
   "metadata": {
    "collapsed": false,
    "deletable": true,
    "editable": true
   },
   "outputs": [],
   "source": [
    "lightcurve_plot = LightCurvePlot(planet=planet,\n",
    "                                 data=exoplanet.data,\n",
    "                                 model=best_model,\n",
    "                                 parameters=best_parameters)"
   ]
  },
  {
   "cell_type": "code",
   "execution_count": 64,
   "metadata": {
    "collapsed": true,
    "deletable": true,
    "editable": true
   },
   "outputs": [],
   "source": [
    "smoothing_parameters = {'GJ 436 b': {'8p0': 8.5e-7},\n",
    "                        'HAT-P-2 b': {'3p6':9e-6, '4p5': 6e-6, '8p0': 8e-5},\n",
    "                        'HAT-P-7 b': {'3p6':2e-5, '4p5': 1.1e-5},\n",
    "                        'HD 80606 b': {'4p5':6.5e-7, '8p0': 5e-6},\n",
    "                        'HD 189733 b': {'3p6':2e-6, '4p5': 1.5e-6, '8p0': 7.5e-6},\n",
    "                        'HD 209458 b': {'4p5': 8e-6},\n",
    "                        'WASP-12 b': {'3p6':2.5e-4, '4p5': 2.25e-4},\n",
    "                        'WASP-14 b': {'3p6':2.5e-5, '4p5': 2.5e-5},\n",
    "                        'WASP-18 b': {'3p6':1.5e-5, '4p5': 3e-5},\n",
    "                        'WASP-19 b': {'3p6':1.25e-4, '4p5': 1.25e-4},\n",
    "                        'WASP-43 b': {'3p6':9.25e-5, '4p5': 3e-5}}"
   ]
  },
  {
   "cell_type": "code",
   "execution_count": 65,
   "metadata": {
    "collapsed": false,
    "deletable": true,
    "editable": true
   },
   "outputs": [
    {
     "data": {
      "image/png": "[encoded data removed]",
      "text/plain": [
       "<matplotlib.figure.Figure at 0x11c35cda0>"
      ]
     },
     "metadata": {},
     "output_type": "display_data"
    }
   ],
   "source": [
    "fig, ax = plt.subplots()\n",
    "lightcurve_plot.draw(axis=ax,\n",
    "                     s=smoothing_parameters[planet.name],\n",
    "                     phase_overlap=0.25,\n",
    "                     filetypes=['pdf'],\n",
    "                     combo=False,\n",
    "                     save=True)"
   ]
  },
  {
   "cell_type": "markdown",
   "metadata": {
    "deletable": true,
    "editable": true
   },
   "source": [
    "***\n",
    "## Orbit and Surface Plots"
   ]
  },
  {
   "cell_type": "markdown",
   "metadata": {
    "deletable": true,
    "editable": true
   },
   "source": [
    "##### Draw a top-down orbit plot with equally time-spaced points."
   ]
  },
  {
   "cell_type": "code",
   "execution_count": null,
   "metadata": {
    "collapsed": false,
    "deletable": true,
    "editable": true
   },
   "outputs": [],
   "source": [
    "orbit_plot = OrbitPlot(planet, exoplanet.data, time_resolution = 32)"
   ]
  },
  {
   "cell_type": "code",
   "execution_count": null,
   "metadata": {
    "collapsed": false,
    "deletable": true,
    "editable": true,
    "scrolled": false
   },
   "outputs": [],
   "source": [
    "fig, ax = plt.subplots()\n",
    "orbit_plot.draw_static(axis=ax, filetypes=['pdf'], save=True)"
   ]
  },
  {
   "cell_type": "markdown",
   "metadata": {
    "deletable": true,
    "editable": true
   },
   "source": [
    "##### Draw a projection of the planet surface with a quantity (e.g. temperature) plotted as a color map. Since we're going to animate this with the orbit plot, which has a time resolution different from the generated model time resolution, we need to select out every nth timestep, n given by the ratio."
   ]
  },
  {
   "cell_type": "code",
   "execution_count": null,
   "metadata": {
    "collapsed": false,
    "deletable": true,
    "editable": true
   },
   "outputs": [],
   "source": [
    "selected_band = '4p5'\n",
    "surface_plot = SurfacePlot(planet,\n",
    "                           rotation_period = best_rotation[selected_band]\n",
    "                           map_array = (best_model[selected_band]['temp'].reshape(planet.time_resolution*planet.num_orbits,\n",
    "                                                                          planet.latitude_resolution+1,\n",
    "                                                                          planet.longitude_resolution+1)),\n",
    "                           time_resolution = 32,\n",
    "                           start_orbit = 3)"
   ]
  },
  {
   "cell_type": "markdown",
   "metadata": {
    "deletable": true,
    "editable": true
   },
   "source": [
    "##### The multi_animation routine takes multiple visualizations and animates them together over a time series."
   ]
  },
  {
   "cell_type": "code",
   "execution_count": null,
   "metadata": {
    "collapsed": false,
    "deletable": true,
    "editable": true
   },
   "outputs": [],
   "source": [
    "orbit_plot.set_rotation_period(planet.P)\n",
    "orbit_plot.set_num_orbits(3)\n",
    "animation = multi_animation.draw(planet,\n",
    "                                 plot_objects = [orbit_plot, surface_plot],\n",
    "                                 num_orbits = 3)"
   ]
  },
  {
   "cell_type": "markdown",
   "metadata": {
    "deletable": true,
    "editable": true
   },
   "source": [
    "***\n",
    "## Miscellaneous Plots"
   ]
  },
  {
   "cell_type": "markdown",
   "metadata": {
    "deletable": true,
    "editable": true
   },
   "source": [
    "##### One interesting plot is to look at a map of likelihoods in a 2D slice of parameter space. Here, we make a plot of rotation period versus radiative timescale, using an existing grid search with the other 2 parameters (minimum temperature, albedo) at values fixed to their best fits from MCMC. This shows us how degenerate the selection of the 2 timescale parameters is."
   ]
  },
  {
   "cell_type": "code",
   "execution_count": 66,
   "metadata": {
    "collapsed": true,
    "deletable": true,
    "editable": true
   },
   "outputs": [],
   "source": [
    "degeneracy_file = N.load('files/HD209458b_grid_2D.npy', encoding='latin1', fix_imports=True)[()]"
   ]
  },
  {
   "cell_type": "code",
   "execution_count": 69,
   "metadata": {
    "collapsed": false,
    "deletable": true,
    "editable": true
   },
   "outputs": [
    {
     "data": {
      "image/png": "[encoded data removed]",
      "text/plain": [
       "<matplotlib.figure.Figure at 0x11c0c0278>"
      ]
     },
     "metadata": {},
     "output_type": "display_data"
    }
   ],
   "source": [
    "prot = N.linspace(0.05, 1.0, num=96) * planet.pseudosynchronous_period()\n",
    "t1000 = N.linspace(5, 100, num=96)\n",
    "\n",
    "degeneracy_grid = degeneracy_file['4p5']['logl'].reshape(96,96).T\n",
    "logl_min = N.nanmin(degeneracy_grid)\n",
    "\n",
    "x, y = N.meshgrid(N.array(prot/planet.pseudosynchronous_period()), N.array(t1000/U.hr))\n",
    "plt.pcolor(x, y, degeneracy_grid/logl_min, cmap=cm['fire_r'])\n",
    "cb = plt.colorbar()\n",
    "cb.set_label('Scaled Log Likelihood', fontsize=16)\n",
    "plt.xlabel(r'$P_{\\mathrm{rot}}/P_{\\mathrm{orb}}$', fontsize=16)\n",
    "plt.ylabel(r'$\\tau_{1000}$ (hr)', fontsize=16)\n",
    "plt.savefig('HD209458b_degeneracy.pdf', bbox_inches='tight', transparent=True)"
   ]
  },
  {
   "cell_type": "code",
   "execution_count": null,
   "metadata": {
    "collapsed": true
   },
   "outputs": [],
   "source": []
  }
 ],
 "metadata": {
  "anaconda-cloud": {},
  "kernelspec": {
   "display_name": "Python 3",
   "language": "python",
   "name": "python3"
  },
  "language_info": {
   "codemirror_mode": {
    "name": "ipython",
    "version": 3
   },
   "file_extension": ".py",
   "mimetype": "text/x-python",
   "name": "python",
   "nbconvert_exporter": "python",
   "pygments_lexer": "ipython3",
   "version": "3.6.0"
  }
 },
 "nbformat": 4,
 "nbformat_minor": 0
}
