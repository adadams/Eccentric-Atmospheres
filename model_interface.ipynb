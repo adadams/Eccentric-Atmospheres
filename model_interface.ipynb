{
 "cells": [
  {
   "cell_type": "markdown",
   "metadata": {
    "collapsed": true
   },
   "source": [
    "# Thermal Radiative Model Interface"
   ]
  },
  {
   "cell_type": "markdown",
   "metadata": {},
   "source": [
    "This notebook will produce relevant figures from the accompanying publication. The first section uses a data file of measured secondary eclipses. The remaining sections are specific to planets with sampled light curves. It imports existing MCMC results for likelihood optimization of the thermal model parameters."
   ]
  },
  {
   "cell_type": "markdown",
   "metadata": {},
   "source": [
    "***\n",
    "##### Import shared packages."
   ]
  },
  {
   "cell_type": "code",
   "execution_count": null,
   "metadata": {},
   "outputs": [],
   "source": [
    "import datetime\n",
    "from glob import glob\n",
    "from importlib import import_module\n",
    "\n",
    "import astropy.constants as C\n",
    "import astropy.units as U\n",
    "from astropy.analytic_functions import blackbody_lambda\n",
    "from astropy.stats import bootstrap\n",
    "import numpy as N\n",
    "from scipy.stats import linregress\n",
    "from scipy.stats import lognorm\n",
    "\n",
    "%matplotlib inline\n",
    "from matplotlib import pyplot as plt\n",
    "from matplotlib import ticker\n",
    "from matplotlib.patches import FancyArrowPatch\n",
    "from mpl_toolkits.axes_grid1.inset_locator import inset_axes\n",
    "plt.rc('text', usetex=True)\n",
    "plt.rc('font', family='serif')\n",
    "from colorcet import cm"
   ]
  },
  {
   "cell_type": "markdown",
   "metadata": {},
   "source": [
    "##### Import instrumental response data."
   ]
  },
  {
   "cell_type": "code",
   "execution_count": null,
   "metadata": {},
   "outputs": [],
   "source": [
    "from data.bandpass.spitzer_IRAC import spitzer_IRAC as spitzer_IRAC\n",
    "from data.bandpass.JHKs.TwoMASS import TwoMASS as TwoMASS\n",
    "from data.bandpass.kepler import kepler as kepler\n",
    "bandpasses = {**kepler.bandpass, **TwoMASS.bandpass, **spitzer_IRAC.bandpass}"
   ]
  },
  {
   "cell_type": "markdown",
   "metadata": {},
   "source": [
    "***\n",
    "## Secondary Eclipse Plots"
   ]
  },
  {
   "cell_type": "markdown",
   "metadata": {},
   "source": [
    "##### Import data on measured eclipse depths in a variety of photometric bands, along with some system properties. We want to calculate the ratio of the measured depths to what the depth should be if the planet were radiating uniformly at its theoretical equilibrium temperature."
   ]
  },
  {
   "cell_type": "code",
   "execution_count": null,
   "metadata": {},
   "outputs": [],
   "source": [
    "eclipse_file = N.genfromtxt('files/sec_eclipses.csv', delimiter=',', names=True, usecols=(range(1,86)), comments='#')\n",
    "eclipse_names = N.genfromtxt('files/sec_eclipses.csv', delimiter=',', usecols=0, dtype=str, comments='#')[1:]"
   ]
  },
  {
   "cell_type": "code",
   "execution_count": null,
   "metadata": {},
   "outputs": [],
   "source": [
    "e = eclipse_file['ECC']\n",
    "w = eclipse_file['OM']\n",
    "Teff = eclipse_file['TEFF'] * U.K\n",
    "Teq = eclipse_file['TEFF'] * N.sqrt(0.5/eclipse_file['AR'] * (1-e*N.sin(w))/(1-e**2)) * U.K\n",
    "Rs = eclipse_file['RS'] * C.R_sun\n",
    "Rp = eclipse_file['RP'] * C.R_jup"
   ]
  },
  {
   "cell_type": "code",
   "execution_count": null,
   "metadata": {},
   "outputs": [],
   "source": [
    "dTeff_upper = eclipse_file['TEFFUPPER']/eclipse_file['TEFF']\n",
    "dTeff_lower = eclipse_file['TEFFLOWER']/eclipse_file['TEFF']\n",
    "\n",
    "dTeq_upper = N.sqrt(dTeff_upper**2 + (0.5*eclipse_file['ARUPPER']/eclipse_file['AR'])**2)\n",
    "dTeq_lower = N.sqrt(dTeff_lower**2 + (0.5*eclipse_file['ARLOWER']/eclipse_file['AR'])**2)\n",
    "\n",
    "dRs_upper = eclipse_file['RSUPPER']/eclipse_file['RS']\n",
    "dRs_lower = eclipse_file['RSLOWER']/eclipse_file['RS']\n",
    "dRp_upper = eclipse_file['RPUPPER']/eclipse_file['RP']\n",
    "dRp_lower = eclipse_file['RPLOWER']/eclipse_file['RP']"
   ]
  },
  {
   "cell_type": "code",
   "execution_count": null,
   "metadata": {},
   "outputs": [],
   "source": [
    "flux_ratio = [{}, {}]\n",
    "dflux_ratio_upper = [{}, {}]\n",
    "dflux_ratio_lower = [{}, {}]\n",
    "\n",
    "for band in bandpasses:\n",
    "    dF_obs_upper = eclipse_file['{0}UPPER'.format(band)]/eclipse_file[band]\n",
    "    dF_obs_lower = eclipse_file['{0}LOWER'.format(band)]/eclipse_file[band]\n",
    "    \n",
    "    for i, n in enumerate([N.sqrt(2),1]):\n",
    "        waves = bandpasses[band]['wavelength'] * U.um\n",
    "        spectrum = bandpasses[band]['weighted_spectrum'] * U.um\n",
    "        \n",
    "        B_eq = [blackbody_lambda(in_x = waves, temperature = T*n)*U.sr for T in Teq]\n",
    "        I_eq = N.array([N.dot(B, spectrum) for B in B_eq])*B_eq[0].unit*spectrum.unit\n",
    "        dI_eq_upper = N.array([(0.5/(C.c*C.k_B*T) * dT * N.sqrt(N.sum((waves**5 * N.exp(C.h*C.c/(waves*C.k_B*T*n)) * B**2)**2)) / I).decompose() for B, I, T, dT in zip(B_eq, I_eq, Teq, dTeq_upper)])\n",
    "        dI_eq_lower = N.array([(0.5/(C.c*C.k_B*T) * dT * N.sqrt(N.sum((waves**5 * N.exp(C.h*C.c/(waves*C.k_B*T*n)) * B**2)**2)) / I).decompose() for B, I, T, dT in zip(B_eq, I_eq, Teq, dTeq_lower)])\n",
    "                       \n",
    "        B_star = [blackbody_lambda(in_x = waves, temperature = T*n)*U.sr for T in Teff]\n",
    "        I_star = N.array([N.dot(B, spectrum) for B in B_star])*B_star[0].unit*spectrum.unit\n",
    "        dI_star_upper = N.array([(0.5/(C.c*C.k_B*T) * dT * N.sqrt(N.sum((waves**5 * N.exp(C.h*C.c/(waves*C.k_B*T*n)) * B**2)**2)) / I).decompose() for B, I, T, dT in zip(B_star, I_star, Teff, dTeff_upper)])\n",
    "        dI_star_lower = N.array([(0.5/(C.c*C.k_B*T) * dT * N.sqrt(N.sum((waves**5 * N.exp(C.h*C.c/(waves*C.k_B*T*n)) * B**2)**2)) / I).decompose() for B, I, T, dT in zip(B_star, I_star, Teff, dTeff_lower)])\n",
    "                       \n",
    "        F_th = I_eq / I_star * (Rp/Rs)**2\n",
    "        \n",
    "        flux_ratio[i][band] = eclipse_file[band] / F_th\n",
    "        dflux_ratio_upper[i][band] = N.sqrt(dF_obs_upper**2 + dI_eq_upper**2 + dI_star_upper**2 + 4*(dRs_upper**2 + dRp_upper**2))\n",
    "        dflux_ratio_lower[i][band] = N.sqrt(dF_obs_lower**2 + dI_eq_lower**2 + dI_star_lower**2 + 4*(dRs_lower**2 + dRp_lower**2))"
   ]
  },
  {
   "cell_type": "code",
   "execution_count": null,
   "metadata": {},
   "outputs": [],
   "source": [
    "T_B = {}\n",
    "for band in ['3p6', '4p5', '5p8', '8p0']:\n",
    "    l = float(band.replace('p','.')) * U.um\n",
    "    l_arg = C.h * C.c / (l * C.k_B)\n",
    "    flux_ratio[1][band] = ((l_arg / N.log((N.exp(l_arg/Teq)-1)/flux_ratio[1][band] + 1)).to(U.K) / Teq).value"
   ]
  },
  {
   "cell_type": "markdown",
   "metadata": {},
   "source": [
    "##### Plot a scatterplot of the ratio of observed eclipse depths to the thermal depths, as a function of equilibrium temperature."
   ]
  },
  {
   "cell_type": "code",
   "execution_count": null,
   "metadata": {},
   "outputs": [],
   "source": [
    "plot_colors = ['#4575b4', '#74add1', '#abd9e9', '#e0f3f8', '#fee090', '#fdae61', '#f46d43', '#d73027']\n",
    "plot_labels = [r'Kepler', r'$J$', r'$H$', r'$K_s$', r'3.6 $\\mu$m', r'4.5 $\\mu$m', r'5.8 $\\mu$m', r'8.0 $\\mu$m']"
   ]
  },
  {
   "cell_type": "code",
   "execution_count": null,
   "metadata": {
    "scrolled": false
   },
   "outputs": [],
   "source": [
    "#Epsilon parameter is 0 for zero redistribution, 1 for perfect redistribution.\n",
    "ep = 1\n",
    "\n",
    "fig, ax = plt.subplots(figsize=(6,6))\n",
    "\n",
    "for i, band in enumerate(bandpasses):\n",
    "    ax.scatter(Teq, flux_ratio[ep][band], c=plot_colors[i], marker='.')\n",
    "    ax.errorbar(Teq/U.K, flux_ratio[ep][band], xerr=Teq/U.K*N.array([dTeq_lower, dTeq_upper]), yerr=N.array([dflux_ratio_lower[ep][band],dflux_ratio_upper[ep][band]])*flux_ratio[ep][band], c=plot_colors[i], label=plot_labels[i], fmt='.', elinewidth=0.5)\n",
    "    \n",
    "ax.axhline(1, c='k', linewidth=0.5, linestyle='dotted', alpha=0.5)\n",
    "\n",
    "kepler_low = N.nanargmin(flux_ratio[ep]['KP'])\n",
    "kepler_high = N.nanargmax(flux_ratio[ep]['KP'])\n",
    "IRAC8p0_low = N.nanargmin(flux_ratio[ep]['8p0'])\n",
    "\n",
    "ax.annotate('', ha = 'center', va = 'center', color='k',\n",
    "            xy=(float(Teq[kepler_high]/U.K)+200, N.nanmax(flux_ratio[ep]['KP'])-100), xycoords='data',\n",
    "            xytext=(float(Teq[kepler_low]/U.K), N.nanmin(flux_ratio[ep]['KP'])), textcoords='data', fontsize=10,\n",
    "            arrowprops=dict(arrowstyle=\"fancy\",\n",
    "                            color=\"k\", alpha=0.1,\n",
    "                            mutation_scale=50,\n",
    "                            shrinkA=20,\n",
    "                            shrinkB=0,\n",
    "                            connectionstyle=\"angle3,angleA=180,angleB=-90\",\n",
    "                            ),\n",
    "            )\n",
    "\n",
    "ax.annotate('', ha = 'center', va = 'center', color='k',\n",
    "            xy=(float(Teq[IRAC8p0_low]/U.K), N.nanmin(flux_ratio[ep]['8p0'])), xycoords='data',\n",
    "            xytext=(float(N.nanmax(Teq)/U.K), flux_ratio[ep]['4p5'][N.nanargmax(Teq)]), textcoords='data', fontsize=10,\n",
    "            arrowprops=dict(arrowstyle=\"fancy\",\n",
    "                            color=\"k\", alpha=0.1,\n",
    "                            mutation_scale=50,\n",
    "                            shrinkA=20,\n",
    "                            shrinkB=10,\n",
    "                            connectionstyle=\"angle3,angleA=180,angleB=90\",\n",
    "                            ),\n",
    "            )\n",
    "\n",
    "ax.text(2375, 0.6, 'Clouds\\ndecrease\\nemissivity', ha = 'center', va = 'center',\n",
    "                    color='k', alpha=0.5, fontsize=12)\n",
    "\n",
    "ax.text(2000, 60, 'Clouds\\nincrease\\nreflectivity', ha = 'center', va = 'center',\n",
    "                    color='k', alpha=0.5, fontsize=12)\n",
    "\n",
    "plt.xlabel(r'T$_\\mathrm{eq}$ (K)', fontsize=18)\n",
    "plt.ylabel(r'F$_\\mathrm{obs}$/F$_\\mathrm{eq}$', fontsize=18)\n",
    "ax.tick_params(axis='both', which='major', labelsize=12)\n",
    "ax.set_yscale('log')\n",
    "ax.set_ylim([0.35, 500])\n",
    "ax.yaxis.set_major_formatter(ticker.FormatStrFormatter(\"%d\"))\n",
    "\n",
    "plt.legend(loc='upper right', fontsize=10, ncol=1)\n",
    "\n",
    "plt.savefig('eclipse_scatterplot.pdf', bbox_inches='tight')"
   ]
  },
  {
   "cell_type": "markdown",
   "metadata": {},
   "source": [
    "##### Plot a histogram of the eclipse ratios, including a best-fit log-normal distribution."
   ]
  },
  {
   "cell_type": "code",
   "execution_count": null,
   "metadata": {},
   "outputs": [],
   "source": [
    "ep = 1\n",
    "\n",
    "hist_arrays = {}\n",
    "for band in bandpasses:\n",
    "    #Plotting cut for the histogram above a ratio of 3.\n",
    "    hist_arrays[band] = (flux_ratio[ep][band])[flux_ratio[ep][band]< 3.]\n",
    "bins = N.histogram(N.hstack(hist_arrays.values()), bins=25)[1]\n",
    "lognorm_fit = lognorm.fit(N.hstack(hist_arrays.values()), loc=N.log(1.2))\n",
    "#lognorm_fit = lognorm.fit(N.hstack([hist_arrays['3p6'], hist_arrays['4p5'], hist_arrays['5p8'], hist_arrays['8p0']]), loc=N.log(1.2))\n",
    "\n",
    "plt.hist(hist_arrays.values(),\n",
    "         bins=bins, color=plot_colors,\n",
    "         label=plot_labels,\n",
    "         stacked=True, normed=True)\n",
    "\n",
    "x = N.linspace(0.5, 3, 100)\n",
    "plt.plot(x, lognorm.pdf(x, *lognorm_fit), c='#444444', linewidth=3, linestyle='dotted', alpha=0.5)\n",
    "\n",
    "plt.text(0.95, 0.5, '$x_0=%.3f$\\n$\\mu=%.3f$\\n$\\sigma=%.3f$'%((lognorm_fit[1], N.log(lognorm_fit[2]), lognorm_fit[0])),\n",
    "         transform=plt.gca().transAxes, fontsize=12, horizontalalignment='right', verticalalignment='center')\n",
    "plt.legend(loc='upper right', fontsize=10, ncol=2)\n",
    "plt.xlabel(r'F$_\\mathrm{obs}$/F$_\\mathrm{eq}$', fontsize=16)\n",
    "plt.ylabel(r'Normalized Frequency', fontsize=16)\n",
    "\n",
    "plt.savefig('eclipse_histogram.pdf', bbox_inches='tight')"
   ]
  },
  {
   "cell_type": "markdown",
   "metadata": {},
   "source": [
    "##### We can construct the equivalent of a color-magnitude diagram for eclipse depths, where magnitudes are logarithms of eclipse ratios."
   ]
  },
  {
   "cell_type": "code",
   "execution_count": null,
   "metadata": {},
   "outputs": [],
   "source": [
    "def CMD(bands):\n",
    "    mask = [N.argwhere(N.isfinite(ratio[bands[0]]) & N.isfinite(ratio[bands[1]])).squeeze() for ratio in flux_ratio]\n",
    "    x = [N.log(ratio[bands[1]][idx]) for idx, ratio in zip(mask, flux_ratio)]\n",
    "    y = [(N.log(ratio[bands[0]])-N.log(ratio[bands[1]]))[idx] for idx, ratio in zip(mask, flux_ratio)]\n",
    "    teq = [Teq[idx] for idx, ratio in zip(mask, flux_ratio)]\n",
    "    return {'idx': mask, 'mag': x, 'color': y, 'Teq': teq}"
   ]
  },
  {
   "cell_type": "code",
   "execution_count": null,
   "metadata": {},
   "outputs": [],
   "source": [
    "labeled_planets = ['HD 209458 b', 'TrES-3 b', 'HD 189733 b', 'HAT-P-2 b', 'XO-3 b']\n",
    "label_indices = [int(N.argwhere(eclipse_names==[name])) for name in labeled_planets]"
   ]
  },
  {
   "cell_type": "code",
   "execution_count": null,
   "metadata": {},
   "outputs": [],
   "source": [
    "fig, axes = plt.subplots(1, 3, figsize=(13, 4), sharex=True, sharey=True)\n",
    "CMDs = [CMD(['3p6', '4p5']), CMD(['4p5', '5p8']), CMD(['5p8', '8p0'])]\n",
    "plot_bands = [['3.6', '4.5'], ['4.5', '5.8'], ['5.8', '8.0']]\n",
    "\n",
    "quantity = 'Teq'\n",
    "\n",
    "Teq_min = N.nanmin([N.nanmin([cmd[quantity][0], cmd[quantity][1]]) for cmd in CMDs])\n",
    "Teq_max = N.nanmin([N.nanmax([cmd[quantity][0], cmd[quantity][1]]) for cmd in CMDs])\n",
    "\n",
    "for i, (ax, cmag) in enumerate(zip(axes, CMDs)):\n",
    "    scatter_ep0 = ax.scatter(cmag['mag'][0], cmag['color'][0], marker='X', c='#888888', vmin=Teq_min, vmax=Teq_max, label='$\\epsilon=0$')\n",
    "    scatter_ep1 = ax.scatter(cmag['mag'][1], cmag['color'][1], c=cmag[quantity][1], vmin=Teq_min, vmax=Teq_max, cmap=cm['isoluminant_cgo_70_c39'], label='$\\epsilon=1$')\n",
    "    for x0, y0, x1, y1, color in zip(cmag['mag'][0], cmag['color'][0], cmag['mag'][1], cmag['color'][1], cmag['Teq'][1]):\n",
    "        ax.plot([x0,x1],[y0,y1], c='k', linewidth=0.5, alpha=0.3, zorder=0)\n",
    "\n",
    "    ax.set_xlabel(r'$\\log \\left(F_\\mathrm{{obs}}/F_\\mathrm{{eq}}\\right)$, {0}$\\mu$m'.format(plot_bands[i][1]),fontsize=16)\n",
    "    ax.set_ylabel(r'$\\log \\left(F_\\mathrm{{o}}/F_\\mathrm{{e}}\\right)$, {0}$\\mu$m - $\\log \\left(F_\\mathrm{{o}}/F_\\mathrm{{e}}\\right)$, {1}$\\mu$m'.format(*plot_bands[i]), fontsize=13)\n",
    "    \n",
    "    ax.axvline(0, c='k', linewidth=0.5, linestyle='dotted', alpha=0.5)\n",
    "    x = N.linspace(*ax.get_xlim())\n",
    "    ax.plot(x, -x, c='k', linewidth=0.5, linestyle='dotted', alpha=0.5)\n",
    "    \n",
    "    ax.set_xlim([-0.5,1.25])\n",
    "    ax.set_ylim([-0.75,1.25])\n",
    "    ax.add_artist(FancyArrowPatch((-0.01,0.5*(ax.get_ylim()[1])), (0.15,0.5*(ax.get_ylim()[1])), arrowstyle='simple', mutation_scale=10, edgecolor=None, facecolor='k', alpha=0.5, zorder=1))\n",
    "    ax.add_artist(FancyArrowPatch((-0.5*(ax.get_ylim()[0])-0.01,0.5*(ax.get_ylim()[0])), (-0.5*(ax.get_ylim()[0])-0.01+0.15/N.sqrt(2),0.5*(ax.get_ylim()[0])+0.15/N.sqrt(2)), arrowstyle='simple', mutation_scale=10, edgecolor=None, facecolor='k', alpha=0.5, zorder=1))\n",
    "    \n",
    "    ax.set_aspect('equal')\n",
    "    \n",
    "    for idx, name in zip(label_indices, labeled_planets):\n",
    "        if idx in cmag['idx'][0] and idx in cmag['idx'][1]:\n",
    "            x0_ = cmag['mag'][0][cmag['idx'][0] == idx]\n",
    "            y0_ = cmag['color'][0][cmag['idx'][0] == idx]\n",
    "            x1_ = cmag['mag'][1][cmag['idx'][1] == idx]\n",
    "            y1_ = cmag['color'][1][cmag['idx'][1] == idx]\n",
    "            \n",
    "            text_angle = float(N.arctan((y1_-y0_)/(x1_-x0_))/U.deg)\n",
    "            line_length = N.sqrt((x1_-x0_)**2+(y1_-y0_)**2)\n",
    "            \n",
    "            ax.annotate(name, ha = 'center', va = 'center', color='k', rotation=text_angle,\n",
    "            xy=(0.5*(x0_+x1_),0.5*(y0_+y1_)), xycoords='data',\n",
    "            xytext=(0.5*(x0_+x1_)-0.025*(y1_-y0_)/line_length,0.5*(y0_+y1_)+0.025*(x1_-x0_)/line_length), textcoords='data', fontsize=6,\n",
    "            )\n",
    "    \n",
    "fig.subplots_adjust(right=0.88)\n",
    "cbar_ax = fig.add_axes([0.89, 0.15, 0.025, 0.55])\n",
    "cb = fig.colorbar(scatter_ep1, cax=cbar_ax)\n",
    "cb.set_label(r'$T_\\mathrm{eq}$ (K)', fontsize=16)\n",
    "\n",
    "legend_ax = fig.add_axes([0.8835, 0.7, 0.025, 0.2], frameon=False)\n",
    "legend_ax.tick_params(labelcolor='none', top='off', bottom='off', left='off', right='off')\n",
    "legend_ax.grid(False)\n",
    "p,l = axes[-1].get_legend_handles_labels()\n",
    "legend = legend_ax.legend(p, l, loc='center left', fontsize=11)\n",
    "legend.legendHandles[0].set_color('k')\n",
    "legend.legendHandles[1].set_color('k')\n",
    "\n",
    "plt.savefig('eclipse_CMD_{0}.pdf'.format(quantity), bbox_inches='tight')"
   ]
  },
  {
   "cell_type": "markdown",
   "metadata": {},
   "source": [
    "***\n",
    "## Planet-specific Modules"
   ]
  },
  {
   "cell_type": "markdown",
   "metadata": {},
   "source": [
    "##### The planet class contains all the methods used for the geometry of the planet-star system."
   ]
  },
  {
   "cell_type": "code",
   "execution_count": null,
   "metadata": {},
   "outputs": [],
   "source": [
    "from planet_class import Planet"
   ]
  },
  {
   "cell_type": "markdown",
   "metadata": {},
   "source": [
    "##### Import the system properties and data of the planets (contained in Python dictionaries in a separate file), into a dictionary of planet classes. For some plots we just want to pick out a specific planet, which we specify here."
   ]
  },
  {
   "cell_type": "code",
   "execution_count": null,
   "metadata": {},
   "outputs": [],
   "source": [
    "paths = [s.split('/')[-1] for s in glob('data/planet/*') if '__' not in s]\n",
    "planets = {}\n",
    "for path in paths:\n",
    "    directory = import_module('data.planet.{0}.{0}'.format(path))\n",
    "    if directory.data != None:\n",
    "        planets[path] = Planet(directory)\n",
    "\n",
    "specific_name = 'HATP7b'"
   ]
  },
  {
   "cell_type": "markdown",
   "metadata": {},
   "source": [
    "##### Import the module for the thermal model."
   ]
  },
  {
   "cell_type": "code",
   "execution_count": null,
   "metadata": {},
   "outputs": [],
   "source": [
    "from thermal import blackbody as thermal_model"
   ]
  },
  {
   "cell_type": "markdown",
   "metadata": {},
   "source": [
    "##### Import the routine to convert surface temperatures to observed planet-star flux ratios in a given band."
   ]
  },
  {
   "cell_type": "code",
   "execution_count": null,
   "metadata": {},
   "outputs": [],
   "source": [
    "from data.bandpass.response import light_curve"
   ]
  },
  {
   "cell_type": "markdown",
   "metadata": {},
   "source": [
    "##### Import the likelihood calculation routine."
   ]
  },
  {
   "cell_type": "code",
   "execution_count": null,
   "metadata": {},
   "outputs": [],
   "source": [
    "from stats.gaussian import log_likelihood\n",
    "from stats.metropolis import MCMC"
   ]
  },
  {
   "cell_type": "markdown",
   "metadata": {},
   "source": [
    "##### Import any visualization routines needed."
   ]
  },
  {
   "cell_type": "code",
   "execution_count": null,
   "metadata": {},
   "outputs": [],
   "source": [
    "from visualization import multi_animation\n",
    "from visualization.style import colors\n",
    "from visualization.lightcurve_plot import LightCurvePlot\n",
    "from visualization.orbit_plot import OrbitPlot\n",
    "from visualization.surface_plot import SurfacePlot"
   ]
  },
  {
   "cell_type": "markdown",
   "metadata": {},
   "source": [
    "***\n",
    "## Best-Fit Model Light Curves from Existing MCMC Results"
   ]
  },
  {
   "cell_type": "markdown",
   "metadata": {},
   "source": [
    "##### A wrapper function using the thermal model and light curve routines to start with a set of specified parameter values and return a light curve. This function will be passed to the statistical likelihood function."
   ]
  },
  {
   "cell_type": "code",
   "execution_count": null,
   "metadata": {},
   "outputs": [],
   "source": [
    "def generate_model(planet, parameters, spectral_array):\n",
    "    temperature_map = thermal_model.temperatures(planet=planet, parameters=parameters)\n",
    "    model = light_curve(planet=planet,\n",
    "                        temp_map=temperature_map,\n",
    "                        spectral_array=spectral_array,\n",
    "                        parameters=parameters,\n",
    "                        use_tidal_distortion=False)\n",
    "    return {'temp': temperature_map, 'model': model}"
   ]
  },
  {
   "cell_type": "markdown",
   "metadata": {},
   "source": [
    "##### If there are saved MCMC outputs we want to use, import them here. Usually we have one run which converges (hopefully) to the optimum point in parameter space, as well as a run that starts at that optimum and freely explores the region around the optimum to get an estimate on the uncertainty.\n",
    "\n",
    "##### For the MCMC routine we feed the parameters in as a list. The parameter order is:\n",
    "1. Rotation period\n",
    "2. Radiative timescale\n",
    "3. Minimum temperature\n",
    "4. Albedo"
   ]
  },
  {
   "cell_type": "code",
   "execution_count": null,
   "metadata": {},
   "outputs": [],
   "source": [
    "mcmc_file = {}\n",
    "mcmc_uncertainty_file = {}\n",
    "mcmc_fit = {}\n",
    "mcmc_uncertainty = {}\n",
    "sigma_upper = {}\n",
    "sigma_lower = {}\n",
    "\n",
    "for name, planet in sorted(planets.items()):\n",
    "    try:\n",
    "        mcmc_file[name] = N.load('files/{0}_mcmc.npy'.format(planet.name.replace(\" \", \"\")), encoding='latin1', fix_imports=True)[()]\n",
    "        mcmc_uncertainty_file[name] = N.load('files/{0}_mcmc_uncertainties.npy'.format(planet.name.replace(\" \", \"\")), encoding='latin1', fix_imports=True)[()]\n",
    "    except:\n",
    "        continue\n",
    "    \n",
    "    print(name)\n",
    "    \n",
    "    mcmc_fit[name] = {}\n",
    "    mcmc_uncertainty[name] = {}\n",
    "    sigma_upper[name] = {}\n",
    "    sigma_lower[name] = {}\n",
    "    \n",
    "    for band in planet.data:\n",
    "        mcmc_fit[name][band] = mcmc_file[name][band]['pos'][-1].squeeze() * [planet.pseudosynchronous_period(), U.hr, U.K, U.dimensionless_unscaled]\n",
    "        print('Band: {0} um'.format(band.replace('p', '.')))\n",
    "        print('Best-fit parameters:\\n Rotation period = {0:.2f} ({4:.2f} PSR)\\n Radiative timescale @ {5:.0f} = {1:.1f}\\n Minimum temperature = {2:.0f}\\n Albedo = {3:.2f}\\n'.format(*mcmc_fit[name][band], mcmc_fit[name][band][0]/planet.pseudosynchronous_period(), planet.orbital_equilibrium_temperature().decompose()))\n",
    "        mcmc_uncertainty[name][band] = mcmc_uncertainty_file[name][band]['pos'].squeeze()\n",
    "    \n",
    "        #We take the explored parameter space from the uncertainty run and generate 1-sigma bounds around the best-fit values.\n",
    "        param_upper = []\n",
    "        param_lower = []\n",
    "        for i, fit in enumerate(mcmc_uncertainty[name][band][0]):\n",
    "            upper_entries = (mcmc_uncertainty[name][band].T[i])[mcmc_uncertainty[name][band].T[i] > fit]\n",
    "            if upper_entries.size == 0:\n",
    "                param_upper.append(N.array([N.nan]))\n",
    "            else:\n",
    "                param_upper.append(upper_entries)\n",
    "        for i, fit in enumerate(mcmc_uncertainty[name][band][0]):\n",
    "            lower_entries = (mcmc_uncertainty[name][band].T[i])[mcmc_uncertainty[name][band].T[i] < fit]\n",
    "            if lower_entries.size == 0:\n",
    "                param_lower.append(N.array([N.nan]))\n",
    "            else:\n",
    "                param_lower.append(lower_entries)\n",
    "            \n",
    "        sigma_upper[name][band] = N.array([N.nanpercentile(p, 68) - mcmc_uncertainty[name][band][0][i] for i, p in enumerate(param_upper)]) * [planet.pseudosynchronous_period(), U.hr, U.K, U.dimensionless_unscaled]\n",
    "        sigma_lower[name][band] = N.array([N.nanpercentile(p, 100-68) - mcmc_uncertainty[name][band][0][i] for i, p in enumerate(param_lower)]) * [planet.pseudosynchronous_period(), U.hr, U.K, U.dimensionless_unscaled]\n",
    "        print('1-sigma bounds:\\n Rotation period = +{0:.2f} ({4:.2f} PSR), {5:.2f} ({9:.2f} PSR)\\n Radiative timescale @ {10:.0f} = +{1:.1f}, {6:.1f}\\n Minimum temperature = +{2:.0f}, {7:.0f}\\n Albedo = +{3:.2f}, {8:.2f}\\n'.format(*sigma_upper[name][band], sigma_upper[name][band][0]/planet.pseudosynchronous_period(), *sigma_lower[name][band], sigma_lower[name][band][0]/planet.pseudosynchronous_period(), planet.orbital_equilibrium_temperature().decompose()))"
   ]
  },
  {
   "cell_type": "markdown",
   "metadata": {},
   "source": [
    "##### Here we use the entire dictionary of planets to create a text file with the formatted table information for the publication."
   ]
  },
  {
   "cell_type": "code",
   "execution_count": null,
   "metadata": {},
   "outputs": [],
   "source": [
    "table_name = 'parameter_results.txt'\n",
    "    \n",
    "with open(table_name, 'w+') as table_file:\n",
    "    for name, planet in sorted(planets.items()):\n",
    "        if len(planet.data) > 1:\n",
    "            row = '\\multirow{{{0}}}{{*}}{{{1}}}'.format(len(planet.data), planet.name)\n",
    "        else:\n",
    "            row = planet.name\n",
    "        #We test whether the planet has associated MCMC files. Otherwise, just don't include the results in the table.\n",
    "        try:\n",
    "            for band in planet.data:\n",
    "                row_band = ' & ' + band.replace('p', '.') + ' & '\n",
    "                row_band += '${0:.2f}^{{+{1:.2f}}}_{{{2:.2f}}}$ & '.format(mcmc_fit[name][band][0]/planet.pseudosynchronous_period(),\n",
    "                                                                    sigma_upper[name][band][0]/planet.pseudosynchronous_period(),\n",
    "                                                                    sigma_lower[name][band][0]/planet.pseudosynchronous_period())\n",
    "                if round(mcmc_fit[name][band][3].value, 2) > 0.00:\n",
    "                    row_band += '${0:.2f}^{{+{4:.2f}}}_{{{8:.2f}}}$ & ${1:.1f}^{{+{5:.1f}}}_{{{9:.1f}}}$ & ${2:.0f}^{{+{6:.0f}}}_{{{10:.0f}}}$ & ${3:.2f}^{{+{7:.2f}}}_{{{11:.2f}}}$'\\\n",
    "                                .format(*[x.value for x in mcmc_fit[name][band]], *[x.value for x in sigma_upper[name][band]], *[x.value for x in sigma_lower[name][band]])\n",
    "                else:\n",
    "                    row_band += '${0:.2f}^{{+{3:.2f}}}_{{{7:.2f}}}$ & ${1:.1f}^{{+{4:.1f}}}_{{{8:.1f}}}$ & ${2:.0f}^{{+{5:.0f}}}_{{{9:.0f}}}$ & $<{6:.2f}$'\\\n",
    "                                .format(*[x.value for x in mcmc_fit[name][band]][:-1], *[x.value for x in sigma_upper[name][band]], *[x.value for x in sigma_lower[name][band]][:-1])\n",
    "                row_band += r' \\\\'\n",
    "                row += row_band\n",
    "        except:\n",
    "            continue\n",
    "        row = row.replace('nan', 'N/A')\n",
    "        row += '\\n' + r'\\hline' + '\\n'\n",
    "        table_file.write(row)"
   ]
  },
  {
   "cell_type": "markdown",
   "metadata": {},
   "source": [
    "##### For a specific planet: quick plots showing the trajectory of the MCMC walker(s) in each of the parameter dimensions, as well as the evolution of the likelihood."
   ]
  },
  {
   "cell_type": "code",
   "execution_count": null,
   "metadata": {},
   "outputs": [],
   "source": [
    "fig, axes = plt.subplots(5, 2, sharex=True, figsize=(12, 12))\n",
    "name = specific_name\n",
    "for i in range(4):\n",
    "    for band in planets[name].data:\n",
    "        axes[i][0].plot((mcmc_file[name][band]['pos'].T)[i][0], color=colors.color_datlab[band])\n",
    "        axes[4][0].plot(mcmc_file[name][band]['logl'], color=colors.color_datlab[band])\n",
    "        axes[0][0].set_title(r'Convergence Run', fontsize=20)\n",
    "        \n",
    "        axes[0][0].set_ylabel(r'$P_{\\mathrm{rot}}/P_{\\mathrm{PSR}}$', fontsize=16)\n",
    "        axes[1][0].set_ylabel(r'$\\tau_{\\mathrm{rad}}$ (hr)', fontsize=16)\n",
    "        axes[2][0].set_ylabel(r'$T_{0}$ (K)', fontsize=16)\n",
    "        axes[3][0].set_ylabel(r'Albedo', fontsize=16)\n",
    "        axes[4][0].set_ylabel(r'Log Likelihood', fontsize=14)\n",
    "        \n",
    "        axes[i][1].plot((mcmc_uncertainty_file[name][band]['pos'].T)[i][0], color=colors.color_datlab[band])\n",
    "        axes[4][1].plot(mcmc_uncertainty_file[name][band]['logl'], color=colors.color_datlab[band])\n",
    "        axes[0][1].set_title(r'Uncertainty Run', fontsize=20)"
   ]
  },
  {
   "cell_type": "markdown",
   "metadata": {},
   "source": [
    "##### Pull the most favorable parameter values and make a grid of that single set to plot the flux curve(s). Then generate models for the most favorable parameters in each band."
   ]
  },
  {
   "cell_type": "code",
   "execution_count": null,
   "metadata": {},
   "outputs": [],
   "source": [
    "best_parameters = {}\n",
    "best_rotation = {}\n",
    "best_paramgrid = {}\n",
    "best_model = {}\n",
    "\n",
    "name = specific_name\n",
    "for band in planets[name].data:\n",
    "    best_parameters[band] = mcmc_fit[name][band]\n",
    "    best_rotation[band] = best_parameters[band][0]\n",
    "    best_paramgrid[band] = N.meshgrid(*best_parameters[band])\n",
    "    \n",
    "    #A time resolution of 200 is used for plotting for all planets except HD 80606 b, which uses 500.\n",
    "    planets[name].set_resolution(longitude_resolution = 72,\n",
    "                                   latitude_resolution = 36,\n",
    "                                   time_resolution = 200,\n",
    "                                   num_orbits = 5)\n",
    "    \n",
    "    if name == 'HD80606b':\n",
    "        planets[name].time_resolution = 500\n",
    "        planets[name].times = N.array(N.concatenate([N.r_[N.linspace((i-0.5)*(planets[name].P/U.d), -1.25+i*(planets[name].P/U.d), num=125, endpoint=False), N.linspace(-1.25+i*(planets[name].P/U.d), 1.25+i*(planets[name].P/U.d), num=250, endpoint=False), N.linspace(1.25+i*(planets[name].P/U.d), (i+0.5)*(planets[name].P/U.d), num=125, endpoint=False)] for i in range(5)])) * U.d\n",
    "    \n",
    "    best_model[band] = generate_model(planets[name], best_paramgrid[band], spitzer_IRAC.bandpass[band])"
   ]
  },
  {
   "cell_type": "markdown",
   "metadata": {},
   "source": [
    "##### For our transit depth analysis, we can optionally modify the data by translating the in-transit data up by the geometric transit depth. Then, use delta_data instead of planet.data."
   ]
  },
  {
   "cell_type": "code",
   "execution_count": null,
   "metadata": {},
   "outputs": [],
   "source": [
    "delta_data = {}\n",
    "for band in planets[name].data:\n",
    "    delta_data[band] = {'t':planets[name].data[band]['t'],\n",
    "                        'flux': None,\n",
    "                        'occultation':planets[name].data[band]['occultation']}\n",
    "\n",
    "transit_dip = (planets[name].rp/planets[name].R)**2\n",
    "print('Geometric transit depth: {0}'.format(transit_dip))\n",
    "\n",
    "for band in delta_data:\n",
    "    delta_data[band]['flux'] = N.where(planets[name].data[band]['occultation']==b't',\n",
    "                                       planets[name].data[band]['flux'] + transit_dip,\n",
    "                                       planets[name].data[band]['flux'])"
   ]
  },
  {
   "cell_type": "markdown",
   "metadata": {},
   "source": [
    "##### Initialize the light curve with our best-fit models in each model, then draw with arbitrary smoothing for the shaded region representing rough 1- and 2-sigma boundaries on the model light curves."
   ]
  },
  {
   "cell_type": "code",
   "execution_count": null,
   "metadata": {},
   "outputs": [],
   "source": [
    "uncertainty_models = N.load('files/uncertainty_lightcurves.npy', encoding='latin1', fix_imports=True)[()]"
   ]
  },
  {
   "cell_type": "code",
   "execution_count": null,
   "metadata": {},
   "outputs": [],
   "source": [
    "if name == 'HD80606b':\n",
    "    sigma_curves = {'resolution': 500,\n",
    "                    'times': N.array(N.concatenate([N.r_[N.linspace((i-0.5)*(planets[name].P/U.d), -1.25+i*(planets[name].P/U.d), num=125, endpoint=False), N.linspace(-1.25+i*(planets[name].P/U.d), 1.25+i*(planets[name].P/U.d), num=250, endpoint=False), N.linspace(1.25+i*(planets[name].P/U.d), (i+0.5)*(planets[name].P/U.d), num=125, endpoint=False)] for i in range(5)])) * U.d}\n",
    "else:\n",
    "    sigma_curves = {'resolution': 200,\n",
    "                    'times': planets[name].times}\n",
    "    \n",
    "for band in planets[name].data:\n",
    "    models = N.array(uncertainty_models[name][band]['model'])\n",
    "    counts = uncertainty_models[name][band]['count']\n",
    "    flux_step = N.squeeze(N.repeat(models, counts, axis=0))\n",
    "    sigma_curves[band] = {'lower': [], 'upper': []}\n",
    "    for sigma in [68, 95]:    \n",
    "        lower_flux = N.nanpercentile(flux_step, 50-sigma/2, axis=0)\n",
    "        sigma_curves[band]['lower'].append(lower_flux)\n",
    "        upper_flux = N.nanpercentile(flux_step, 50+sigma/2, axis=0)\n",
    "        sigma_curves[band]['upper'].append(upper_flux)"
   ]
  },
  {
   "cell_type": "code",
   "execution_count": null,
   "metadata": {},
   "outputs": [],
   "source": [
    "lightcurve_plot = LightCurvePlot(planet=planets[name],\n",
    "                                 #data=planets[name].data,\n",
    "                                 data=delta_data,\n",
    "                                 model=best_model,\n",
    "                                 sigma_bounds = sigma_curves,\n",
    "                                 parameters=best_parameters)"
   ]
  },
  {
   "cell_type": "code",
   "execution_count": null,
   "metadata": {},
   "outputs": [],
   "source": [
    "fig, ax = plt.subplots()\n",
    "lightcurve_plot.draw(axis=ax,\n",
    "                     phase_overlap=0.25,\n",
    "                     filetypes=['pdf'],\n",
    "                     combo=False,\n",
    "                     save=True)"
   ]
  },
  {
   "cell_type": "markdown",
   "metadata": {},
   "source": [
    "***\n",
    "## Orbit and Surface Plots"
   ]
  },
  {
   "cell_type": "markdown",
   "metadata": {},
   "source": [
    "##### Draw a top-down orbit plot with equally time-spaced points."
   ]
  },
  {
   "cell_type": "code",
   "execution_count": null,
   "metadata": {},
   "outputs": [],
   "source": [
    "name = specific_name\n",
    "#A time resolution of 32 is used for all planets except HD 80606 b, which uses 500.\n",
    "if name == 'HD80606b':\n",
    "    orbit_resolution = 500\n",
    "else:\n",
    "    orbit_resolution = 32\n",
    "\n",
    "orbit_plot = OrbitPlot(planets[name], time_resolution = orbit_resolution)"
   ]
  },
  {
   "cell_type": "code",
   "execution_count": null,
   "metadata": {
    "scrolled": false
   },
   "outputs": [],
   "source": [
    "fig, ax = plt.subplots()\n",
    "orbit_plot.draw_static(axis=ax, filetypes=['pdf'], save=True, use_data=False)"
   ]
  },
  {
   "cell_type": "markdown",
   "metadata": {},
   "source": [
    "##### Draw a projection of the planet surface with a quantity (e.g. temperature) plotted as a color map. Since we're going to animate this with the orbit plot, which has a time resolution different from the generated model time resolution, we need to select out every nth timestep, n given by the ratio."
   ]
  },
  {
   "cell_type": "code",
   "execution_count": null,
   "metadata": {},
   "outputs": [],
   "source": [
    "selected_band = '4p5'\n",
    "\n",
    "if name == 'HD80606b':\n",
    "    surface_resolution = 500\n",
    "else:\n",
    "    surface_resolution = 32\n",
    "\n",
    "surface_plot = SurfacePlot(planets[name],\n",
    "                           rotation_period = best_rotation[selected_band],\n",
    "                           map_array = (best_model[selected_band]['temp'].reshape(planets[name].time_resolution*(planets[name].num_orbits),(planets[name].latitude_resolution)+1,(planets[name].longitude_resolution)+1)),\n",
    "                           time_resolution = surface_resolution,\n",
    "                           start_orbit = 3)"
   ]
  },
  {
   "cell_type": "markdown",
   "metadata": {},
   "source": [
    "##### The multi_animation routine takes multiple visualizations and animates them together over a time series."
   ]
  },
  {
   "cell_type": "code",
   "execution_count": null,
   "metadata": {},
   "outputs": [],
   "source": [
    "orbit_plot.set_rotation_period(planets[name].P)\n",
    "orbit_plot.set_num_orbits(3)\n",
    "animation = multi_animation.draw(planets[name],\n",
    "                                 plot_objects = [orbit_plot, surface_plot],\n",
    "                                 num_orbits = 3)"
   ]
  },
  {
   "cell_type": "markdown",
   "metadata": {},
   "source": [
    "***\n",
    "## Parameter Plots"
   ]
  },
  {
   "cell_type": "markdown",
   "metadata": {},
   "source": [
    "##### One interesting plot is to look at a map of likelihoods in a 2D slice of parameter space. Here, we make a plot of rotation period versus radiative timescale, using an existing grid search with the other 2 parameters (minimum temperature, albedo) at values fixed to their best fits from MCMC. This shows us how degenerate the selection of the 2 timescale parameters is."
   ]
  },
  {
   "cell_type": "code",
   "execution_count": null,
   "metadata": {},
   "outputs": [],
   "source": [
    "name = specific_name\n",
    "degeneracy_file = N.load('files/{0}_grid.npy'.format(name), encoding='latin1', fix_imports=True)[()]"
   ]
  },
  {
   "cell_type": "code",
   "execution_count": null,
   "metadata": {},
   "outputs": [],
   "source": [
    "pars = degeneracy_file['par'][:]\n",
    "pars[0] = (pars[0]/planets[name].P).decompose()\n",
    "\n",
    "degeneracy_grid = degeneracy_file['logl']['4p5'].squeeze()\n",
    "best_index = N.unravel_index(N.argmin(degeneracy_grid), (len(pars[0]), len(pars[1])))\n",
    "logl_min = N.nanmin(degeneracy_grid)\n",
    "\n",
    "x, y = N.mgrid[pars[0][0]:pars[0][-1]:len(pars[0])*1j, pars[1][0]:pars[1][-1]:len(pars[1])*1j]\n",
    "plt.pcolor(x, y, degeneracy_grid/logl_min, cmap='cet_fire_r', vmin=1, vmax=1.5)\n",
    "cb = plt.colorbar()\n",
    "cb.set_label('Scaled Log Likelihood', fontsize=16)\n",
    "plt.xlabel(r'$P_{\\mathrm{rot}}/P_{\\mathrm{orb}}$', fontsize=16)\n",
    "plt.ylabel(r'$\\tau_{\\mathrm{rad}}$ (hr)', fontsize=16)\n",
    "plt.savefig('{0}_degeneracy.pdf'.format(name), bbox_inches='tight', transparent=True)"
   ]
  },
  {
   "cell_type": "markdown",
   "metadata": {},
   "source": [
    "##### We also plot scatterplots of best-fit parameters versus various properties of the system. Here we show two plots: one of the peak instellation versus the best-fit rotation period, and the time-averaged instellation versus the radiative timescale expressed at the periastron equilibrium temperature."
   ]
  },
  {
   "cell_type": "code",
   "execution_count": null,
   "metadata": {},
   "outputs": [],
   "source": [
    "instellation = {'max': {}, 'maxerr': {},\n",
    "                'mean': {}, 'meanerr': {}}\n",
    "\n",
    "for name in planets:\n",
    "    n = planets[name].name\n",
    "    entry = eclipse_file[eclipse_names==n]\n",
    "    \n",
    "    TEFF = entry['TEFF'][0] / 5776\n",
    "    dTEFF_l = entry['TEFFLOWER'][0] / entry['TEFF'][0]\n",
    "    dTEFF_u = entry['TEFFUPPER'][0] / entry['TEFF'][0]\n",
    "    \n",
    "    a_jup = 5.20336301 * U.AU\n",
    "    aR = entry['AR'][0] / (a_jup/C.R_sun).decompose()\n",
    "    daR_l = entry['ARLOWER'][0] / entry['AR'][0]\n",
    "    daR_u = entry['ARUPPER'][0] / entry['AR'][0]\n",
    "    \n",
    "    e = entry['ECC'][0]\n",
    "    instellation['mean'][name] = TEFF**4 / aR**2 / N.sqrt(1-e**2)\n",
    "    instellation['max'][name] = TEFF**4 / aR**2 / (1-e)**2\n",
    "    instellation['meanerr'][name] = [N.sqrt((4*(TEFF**4)*dTEFF_l)**2 + (2*(aR**-2)*daR_l)**2 + (e/(1-e**2)**1.5)**2),\n",
    "                                 N.sqrt((4*(TEFF**4)*dTEFF_u)**2 + (2*(aR**-2)*daR_u)**2 + (e/(1-e**2)**1.5)**2)]\n",
    "    instellation['maxerr'][name] = [N.sqrt((4*(TEFF**4)*dTEFF_l)**2 + (2*(aR**-2)*daR_l)**2 + (2/(1-e)**3)**2),\n",
    "                                 N.sqrt((4*(TEFF**4)*dTEFF_u)**2 + (2*(aR**-2)*daR_u)**2 + (2/(1-e)**3)**2)]"
   ]
  },
  {
   "cell_type": "code",
   "execution_count": null,
   "metadata": {},
   "outputs": [],
   "source": [
    "quantity_bands = {}\n",
    "planet_links = {}\n",
    "for band in ['3p6', '4p5', '8p0']:\n",
    "    quantity_bands[band] = {'x': [], 'y': [], 'xerr': [], 'yerr': []}\n",
    "\n",
    "quantity = 'mean'\n",
    "\n",
    "for (name, par), (name, dn), (name, up) in zip(mcmc_fit.items(), sigma_lower.items(), sigma_upper.items()):\n",
    "    planet_links[name] = {'x': [], 'y': []}\n",
    "    for band in par:\n",
    "        x = instellation[quantity][name]\n",
    "        xerr = instellation[quantity+'err'][name]\n",
    "        \n",
    "        quantity_bands[band]['x'].append(x)\n",
    "        planet_links[name]['x'].append(x)\n",
    "        \n",
    "        quantity_bands[band]['xerr'].append(xerr)\n",
    "        \n",
    "        if quantity == 'mean':\n",
    "            y = par[band][1]/U.hr * (1-planets[name].e)**1.5\n",
    "            yerr = [-dn[band][1]/U.hr*(1-planets[name].e)**1.5, up[band][0]/U.hr*(1-planets[name].e)**1.5]\n",
    "            \n",
    "        else:\n",
    "            y = par[band][0].to(U.d)/planets[name].pseudosynchronous_period()\n",
    "            yerr = [-dn[band][0].to(U.d)/planets[name].pseudosynchronous_period(), up[band][0].to(U.d)/planets[name].pseudosynchronous_period()]\n",
    "        \n",
    "        quantity_bands[band]['y'].append(y)\n",
    "        planet_links[name]['y'].append(y)\n",
    "        \n",
    "        quantity_bands[band]['yerr'].append(yerr)"
   ]
  },
  {
   "cell_type": "markdown",
   "metadata": {},
   "source": [
    "##### To quantify any potential correlation, we resample the data many times with replacement, varying the position of the drawn points within the propagated error ranges."
   ]
  },
  {
   "cell_type": "code",
   "execution_count": null,
   "metadata": {},
   "outputs": [],
   "source": [
    "num_bootstrap = 10**4\n",
    "\n",
    "x_cum = N.concatenate([quantity_bands[band]['x'] for band in quantity_bands])\n",
    "xerr_cum = N.concatenate([(quantity_bands[band]['x']+(N.array([-1,1])*quantity_bands[band]['xerr']).T).T for band in quantity_bands])\n",
    "y_cum = N.concatenate([quantity_bands[band]['y'] for band in quantity_bands])\n",
    "yerr_cum = N.concatenate([(quantity_bands[band]['y']+(N.array([-1,1])*N.nan_to_num(quantity_bands[band]['yerr'])).T).T for band in quantity_bands])\n",
    "\n",
    "index_sample = bootstrap(N.arange(len(x_cum)), bootnum=num_bootstrap).astype(int)\n",
    "x_sample = N.log10(N.random.uniform(*(N.einsum('spl->lsp',xerr_cum[index_sample]))))\n",
    "y_sample = N.log10(N.random.uniform(*(N.einsum('spl->lsp',yerr_cum[index_sample]))))\n",
    "\n",
    "R_ = N.array([linregress(x_,y_).rvalue**2 for x_, y_ in zip(x_sample, y_sample)])"
   ]
  },
  {
   "cell_type": "markdown",
   "metadata": {},
   "source": [
    "##### The plots show the results of the regression resampling as insets within the scatterplots."
   ]
  },
  {
   "cell_type": "code",
   "execution_count": null,
   "metadata": {},
   "outputs": [],
   "source": [
    "fig, ax = plt.subplots(figsize=(6, 6))\n",
    "\n",
    "for i, band in enumerate(quantity_bands):\n",
    "    ax.errorbar(quantity_bands[band]['x'], quantity_bands[band]['y'],\n",
    "                xerr=N.array(quantity_bands[band]['xerr']).T, yerr=N.array(quantity_bands[band]['yerr']).T,\n",
    "                c=colors.color_modbg[band], fmt='x', capsize=5, elinewidth=2)\n",
    "    \n",
    "ax.set_xlabel(r'$F_\\star/F_{\\odot,J}$', fontsize=20)\n",
    "ax.set_xscale('log')\n",
    "if quantity == 'mean':\n",
    "    ax.set_xlabel(r'$\\bar{F_\\star}/F_{\\odot,J}$', fontsize=20)\n",
    "    ax.set_ylabel(r'$\\tau_{\\mathrm{peri}}$ (hr)', fontsize=20)\n",
    "    ax.set_yscale('log')\n",
    "    loc=4\n",
    "else:\n",
    "    ax.set_xlabel(r'$F_{\\star\\mathrm{, max}}/F_{\\odot,J}$', fontsize=20)\n",
    "    ax.set_ylabel(r'$P_{\\mathrm{orb}}/P_{\\mathrm{PSR}}$', fontsize=20)\n",
    "    loc=2\n",
    "plt.xticks(fontsize=16)\n",
    "plt.yticks(fontsize=16)\n",
    "\n",
    "ax_inset = inset_axes(ax, width=\"30%\", height=\"30%\", borderpad=1, loc=loc)\n",
    "ax_inset.hist(R_, bins=50, label=r'$\\bar{{R^2}}={0:.2f}$'.format(N.mean(R_)), color='#412AA0')\n",
    "ax_inset.set_xlim([0,1])\n",
    "ax_inset.xaxis.set_ticks(N.linspace(0,1,num=6))\n",
    "if quantity == 'mean': ax_inset.xaxis.tick_top()\n",
    "ax_inset.yaxis.set_visible(False)\n",
    "\n",
    "from mpl_toolkits.axes_grid.anchored_artists import AnchoredText\n",
    "at = AnchoredText(r'Median $R^2={0:.2f}$'.format(N.median(R_)),\n",
    "                  prop=dict(size=8), frameon=True,\n",
    "                  loc=1,\n",
    "                  )\n",
    "at.patch.set_boxstyle(\"round,pad=0.,rounding_size=0.2\")\n",
    "ax_inset.add_artist(at)\n",
    "\n",
    "if quantity == 'mean':\n",
    "    plt.savefig('quants_X_instellationmean_Y_radperi.pdf', bbox_inches='tight')\n",
    "else:\n",
    "    plt.savefig('quants_X_instellationpeak_Y_rotper.pdf', bbox_inches='tight')"
   ]
  }
 ],
 "metadata": {
  "anaconda-cloud": {},
  "kernelspec": {
   "display_name": "Python 3",
   "language": "python",
   "name": "python3"
  },
  "language_info": {
   "codemirror_mode": {
    "name": "ipython",
    "version": 3
   },
   "file_extension": ".py",
   "mimetype": "text/x-python",
   "name": "python",
   "nbconvert_exporter": "python",
   "pygments_lexer": "ipython3",
   "version": "3.6.0"
  }
 },
 "nbformat": 4,
 "nbformat_minor": 1
}
