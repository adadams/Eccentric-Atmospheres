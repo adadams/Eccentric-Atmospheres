{
 "cells": [
  {
   "cell_type": "markdown",
   "metadata": {},
   "source": [
    "# Atmospheric Radiative Model Interface"
   ]
  },
  {
   "cell_type": "markdown",
   "metadata": {
    "collapsed": true
   },
   "source": [
    "##### The typical packages to import."
   ]
  },
  {
   "cell_type": "code",
   "execution_count": 1,
   "metadata": {
    "collapsed": false
   },
   "outputs": [
    {
     "name": "stderr",
     "output_type": "stream",
     "text": [
      "/Users/arthur/anaconda/lib/python2.7/site-packages/matplotlib/font_manager.py:273: UserWarning: Matplotlib is building the font cache using fc-list. This may take a moment.\n",
      "  warnings.warn('Matplotlib is building the font cache using fc-list. This may take a moment.')\n"
     ]
    }
   ],
   "source": [
    "import astropy.constants as C\n",
    "import astropy.units as U\n",
    "import numpy as N\n",
    "\n",
    "#%matplotlib inline\n",
    "import matplotlib\n",
    "from matplotlib import pyplot as plt\n",
    "\n",
    "import datetime"
   ]
  },
  {
   "cell_type": "markdown",
   "metadata": {},
   "source": [
    "##### The planet class contains all the methods used for the geometry of the planet-star system."
   ]
  },
  {
   "cell_type": "code",
   "execution_count": 2,
   "metadata": {
    "collapsed": false
   },
   "outputs": [],
   "source": [
    "from planet_class import Planet"
   ]
  },
  {
   "cell_type": "markdown",
   "metadata": {},
   "source": [
    "##### Import the modules for the thermal model (currently a blackbody model)."
   ]
  },
  {
   "cell_type": "code",
   "execution_count": 3,
   "metadata": {
    "collapsed": true
   },
   "outputs": [],
   "source": [
    "from thermal import blackbody as thermal_model"
   ]
  },
  {
   "cell_type": "markdown",
   "metadata": {},
   "source": [
    "##### Import the system properties and data of the desired planet (contained in a Python dictionary in a separate file)."
   ]
  },
  {
   "cell_type": "code",
   "execution_count": 4,
   "metadata": {
    "collapsed": false
   },
   "outputs": [],
   "source": [
    "#from data.planet.HD209458b import HD209458b as exoplanet\n",
    "from data.planet.HATP2b import HATP2b as exoplanet"
   ]
  },
  {
   "cell_type": "markdown",
   "metadata": {},
   "source": [
    "##### Import the instrumental response data (currently for the Spitzer IRAC bands) and the routine to convert surface temperatures to observed planet-star flux ratios in a given band."
   ]
  },
  {
   "cell_type": "code",
   "execution_count": 5,
   "metadata": {
    "collapsed": false
   },
   "outputs": [],
   "source": [
    "from data.bandpass.spitzer_IRAC import spitzer_IRAC as instrument\n",
    "from data.bandpass.response import light_curve"
   ]
  },
  {
   "cell_type": "markdown",
   "metadata": {},
   "source": [
    "##### Import the likelihood calculation routine."
   ]
  },
  {
   "cell_type": "code",
   "execution_count": 6,
   "metadata": {
    "collapsed": false
   },
   "outputs": [],
   "source": [
    "from stats.gaussian import log_likelihood\n",
    "from stats.metropolis import MCMC"
   ]
  },
  {
   "cell_type": "markdown",
   "metadata": {},
   "source": [
    "##### Import any visualization routines needed."
   ]
  },
  {
   "cell_type": "code",
   "execution_count": 7,
   "metadata": {
    "collapsed": false
   },
   "outputs": [],
   "source": [
    "from visualization import multi_animation\n",
    "from visualization.style import colors\n",
    "from visualization.lightcurve_plot import LightCurvePlot\n",
    "from visualization.orbit_plot import OrbitPlot\n",
    "from visualization.surface_plot import SurfacePlot"
   ]
  },
  {
   "cell_type": "markdown",
   "metadata": {},
   "source": [
    "##### Create a planet instance with the user-supplied system properties."
   ]
  },
  {
   "cell_type": "code",
   "execution_count": 8,
   "metadata": {
    "collapsed": false
   },
   "outputs": [],
   "source": [
    "planet = Planet(exoplanet.system_properties)"
   ]
  },
  {
   "cell_type": "markdown",
   "metadata": {},
   "source": [
    "##### Specify the spatial and time resolution for the calculations, including the number of orbits to run."
   ]
  },
  {
   "cell_type": "code",
   "execution_count": 9,
   "metadata": {
    "collapsed": true
   },
   "outputs": [],
   "source": [
    "planet.set_resolution(longitude_resolution = 18,\n",
    "                      latitude_resolution = 8,\n",
    "                      time_resolution = 200,\n",
    "                      num_orbits = 2)"
   ]
  },
  {
   "cell_type": "markdown",
   "metadata": {},
   "source": [
    "##### Specify ranges to be used for the grid in parameter space to be sampled. Make sure that the rotation period is the first parameter. For the blackbody model one also specifies the radiative timescale at 1000 K, the \"nightside\" (baseline) temperature of the planet, and the global Bond albedo."
   ]
  },
  {
   "cell_type": "code",
   "execution_count": 10,
   "metadata": {
    "collapsed": false
   },
   "outputs": [],
   "source": [
    "prot = N.linspace(1, 2.5, num=1) * planet.pseudosynchronous_period()\n",
    "t1000 = N.linspace(0, 30, num=7)\n",
    "#t1000 = N.linspace(5, 5, num=1)\n",
    "t1000[0] += 0.001\n",
    "Tn = N.linspace(100, 2000, num=20) * U.K\n",
    "#Tn = N.linspace(250, 250, num=1)\n",
    "#Tn[0] += 0.001\n",
    "albedo = N.linspace(0.0, 0.6, num=13)\n",
    "\n",
    "parameters = [prot, t1000*U.hr, Tn, albedo]\n",
    "param_grid = N.meshgrid(prot, t1000*U.hr, Tn, albedo)"
   ]
  },
  {
   "cell_type": "markdown",
   "metadata": {},
   "source": [
    "##### A wrapper function using the thermal model and light curve routines to start with a set of specified parameter values and return a light curve. This function will be passed to the statistical likelihood function."
   ]
  },
  {
   "cell_type": "code",
   "execution_count": 11,
   "metadata": {
    "collapsed": true
   },
   "outputs": [],
   "source": [
    "def generate_model(parameters, spectral_array):\n",
    "    temperature_map = thermal_model.temperatures(planet_object=planet, parameters=parameters)\n",
    "    model = light_curve(planet, temperature_map, spectral_array, parameters=parameters)\n",
    "    return {'temp': temperature_map, 'model': model}"
   ]
  },
  {
   "cell_type": "markdown",
   "metadata": {},
   "source": [
    "##### For troubleshooting only: generate a synthetic data set given a predetermined set of \"true\" parameter values."
   ]
  },
  {
   "cell_type": "code",
   "execution_count": null,
   "metadata": {
    "collapsed": false
   },
   "outputs": [],
   "source": [
    "test_parameters = [N.array([1])*planet.pseudosynchronous_period(), N.array([5])*U.hr, N.array([250])*U.K, N.array([0.1])]\n",
    "\n",
    "x = [generate_model(test_parameters, instrument.bandpass[band]) for band in exoplanet.data]\n",
    "y = [q['model'].T[40:] for i, q in enumerate(x)]\n",
    "synthetic_data = {}\n",
    "for i, band in enumerate(exoplanet.data):\n",
    "    synthetic_data[band] = {'t': (planet.times[40:] - 2*planet.P)/U.d,\n",
    "                            'flux': y[i].reshape(40)}"
   ]
  },
  {
   "cell_type": "markdown",
   "metadata": {},
   "source": [
    "### MCMC LIKELIHOOD SEARCH\n",
    "##### First define a (log) prior function that unpacks a set of parameters."
   ]
  },
  {
   "cell_type": "code",
   "execution_count": null,
   "metadata": {
    "collapsed": true
   },
   "outputs": [],
   "source": [
    "def mcmc_prior(parameters):\n",
    "    p, r, T, a = parameters\n",
    "    lnp = N.where(p>0, 0, -N.inf)\n",
    "    lnp = N.where(r>0, lnp, -N.inf)\n",
    "    lnp = N.where(T>0, lnp, -N.inf)\n",
    "    lnp = N.where(0<=a, lnp, -N.inf)\n",
    "    lnp = N.where(a<=1, lnp, -N.inf)\n",
    "    return lnp"
   ]
  },
  {
   "cell_type": "code",
   "execution_count": null,
   "metadata": {
    "collapsed": true
   },
   "outputs": [],
   "source": [
    "starting_position = {'values': [1, 15, 600, 0.1],\n",
    "                     'units': [planet.pseudosynchronous_period(), U.hr, U.K, 1]}"
   ]
  },
  {
   "cell_type": "code",
   "execution_count": null,
   "metadata": {
    "collapsed": false
   },
   "outputs": [],
   "source": [
    "mcmc_model = {}\n",
    "samples = {}\n",
    "for band in exoplanet.data:\n",
    "    print \"Band: {0}\".format(band)\n",
    "    mcmc_model[band] = MCMC(planet_object = planet,\n",
    "                            data = exoplanet.data[band],\n",
    "                            #data = synthetic_data[band],\n",
    "                            spectral_array = instrument.bandpass[band],\n",
    "                            model_function = generate_model)\n",
    "    mcmc_model[band].set_prior(mcmc_prior)\n",
    "    mcmc_model[band].set_initial_position(starting_position)\n",
    "    samples[band] = mcmc_model[band].run_samples(num_walkers=1, num_steps=1000, step_size=[0, 0.1, 0.1, 0])"
   ]
  },
  {
   "cell_type": "markdown",
   "metadata": {},
   "source": [
    "##### Save MCMC outputs: the record of walker positions in parameter space, and the record of log likelihoods at those positions."
   ]
  },
  {
   "cell_type": "code",
   "execution_count": null,
   "metadata": {
    "collapsed": false
   },
   "outputs": [],
   "source": [
    "with open('{0}_{1}_mc_pos.npz'.format(datetime.date.today(), planet.name), 'w') as mc_file:\n",
    "    N.savez(mc_file, samples['3p6']['pos'], samples['4p5']['pos'], samples['8p0']['pos'])\n",
    "    \n",
    "with open('{0}_{1}_mc_logl.npz'.format(datetime.date.today(), planet.name), 'w') as mc_file:\n",
    "    N.savez(mc_file, samples['3p6']['logl'], samples['4p5']['logl'], samples['8p0']['logl'])"
   ]
  },
  {
   "cell_type": "markdown",
   "metadata": {},
   "source": [
    "##### If there are saved MCMC outputs we want to use, import them here."
   ]
  },
  {
   "cell_type": "code",
   "execution_count": 12,
   "metadata": {
    "collapsed": false
   },
   "outputs": [],
   "source": [
    "logl_file = N.load('2016-11-18_HATP2b_mc_logl.npz')\n",
    "mc_logl = {'3p6': logl_file['arr_0'], '4p5': logl_file['arr_1'], '8p0': logl_file['arr_2']}"
   ]
  },
  {
   "cell_type": "code",
   "execution_count": 13,
   "metadata": {
    "collapsed": false
   },
   "outputs": [],
   "source": [
    "pos_file = N.load('2016-11-18_HATP2b_mc_pos.npz')\n",
    "mc_pos = {'3p6': pos_file['arr_0'], '4p5': pos_file['arr_1'], '8p0': pos_file['arr_2']}"
   ]
  },
  {
   "cell_type": "code",
   "execution_count": 14,
   "metadata": {
    "collapsed": false
   },
   "outputs": [
    {
     "name": "stdout",
     "output_type": "stream",
     "text": [
      "4p5\n",
      "[<Quantity 1.9462562498294438 d> <Quantity 5.046003552656314 h>\n",
      " <Quantity 1822.9801108967365 K> 0.5525994407670886]\n",
      "8p0\n",
      "[<Quantity 1.9462562498294438 d> <Quantity 0.16232992205553104 h>\n",
      " <Quantity 180.85761930784264 K> 0.00015861749984941176]\n",
      "3p6\n",
      "[<Quantity 1.9462562498294438 d> <Quantity 2.6672598668534757 h>\n",
      " <Quantity 1202.1227280506491 K> 0.17817401611511832]\n"
     ]
    }
   ],
   "source": [
    "mc_fit = {}\n",
    "for band in exoplanet.data:\n",
    "    print band\n",
    "    mc_fit[band] = mc_pos[band][-1].reshape(4) * [planet.pseudosynchronous_period(), U.hr, U.K, 1]\n",
    "    print mc_fit[band]"
   ]
  },
  {
   "cell_type": "markdown",
   "metadata": {},
   "source": [
    "##### Plot the walker positions along each parameter dimension."
   ]
  },
  {
   "cell_type": "code",
   "execution_count": null,
   "metadata": {
    "collapsed": false
   },
   "outputs": [],
   "source": [
    "burn_in = 250\n",
    "\n",
    "fig, axarr = plt.subplots(4)\n",
    "for i in range(4):\n",
    "    for band in exoplanet.data:\n",
    "        axarr[i].plot((mc_pos[band].T)[i][0],color=colors.color_datlab[band])\n",
    "    #axarr[i].axvline(burn_in,color='red',linestyle='dashed')\n",
    "#plt.title(param_name)\n",
    "#axarr[2].set_ylim((0,1000))\n",
    "plt.savefig('{0}_{1}_mc_PSR.pdf'.format(datetime.date.today(), planet.name))"
   ]
  },
  {
   "cell_type": "markdown",
   "metadata": {},
   "source": [
    "### GRID LIKELIHOOD SEARCH\n",
    "##### Call the statistical likelihood function and save the output as an array in parameter space. 'parallel' runs every parameter in parallel using broadcasting in Numpy. If the array is too large, a memory error might result, so use 'serial' instead. Parallel is faster for small array dimensions."
   ]
  },
  {
   "cell_type": "code",
   "execution_count": null,
   "metadata": {
    "collapsed": false
   },
   "outputs": [],
   "source": [
    "logls = {}\n",
    "for band in exoplanet.data:\n",
    "    print \"Band: {0}\".format(band)\n",
    "    logls[band] = log_likelihood(planet_object = planet,\n",
    "                                 data = exoplanet.data[band],\n",
    "                                 spectral_array = instrument.bandpass[band],\n",
    "                                 model_function = generate_model,\n",
    "                                 parameters = parameters,\n",
    "                                 opt = 'serial')"
   ]
  },
  {
   "cell_type": "markdown",
   "metadata": {},
   "source": [
    "##### Option to save the output in a numpy array file."
   ]
  },
  {
   "cell_type": "code",
   "execution_count": null,
   "metadata": {
    "collapsed": false
   },
   "outputs": [],
   "source": [
    "with open('{0}_{1}_PSR_grid.npz'.format(datetime.date.today(), planet.name), 'w') as grid_file:\n",
    "    N.savez(grid_file, logls)"
   ]
  },
  {
   "cell_type": "markdown",
   "metadata": {},
   "source": [
    "##### Option to load an existing saved log likelihood array file."
   ]
  },
  {
   "cell_type": "code",
   "execution_count": 15,
   "metadata": {
    "collapsed": false
   },
   "outputs": [],
   "source": [
    "logls_file = N.load('2016-11-20_HATP2b_PSR_grid.npz')\n",
    "logls = logls_file['arr_0'][()]"
   ]
  },
  {
   "cell_type": "code",
   "execution_count": 16,
   "metadata": {
    "collapsed": false
   },
   "outputs": [
    {
     "name": "stdout",
     "output_type": "stream",
     "text": [
      "0.345480715782\n"
     ]
    }
   ],
   "source": [
    "print planet.pseudosynchronous_period() / planet.P"
   ]
  },
  {
   "cell_type": "markdown",
   "metadata": {},
   "source": [
    "##### Pull the most favorable parameter values and make a grid of that single set to plot the flux curve(s). Then generate models for the most favorable parameters in each band."
   ]
  },
  {
   "cell_type": "code",
   "execution_count": 26,
   "metadata": {
    "collapsed": false
   },
   "outputs": [],
   "source": [
    "best_parameters = {}\n",
    "best_rotation = {}\n",
    "best_paramgrid = {}\n",
    "best_model = {}\n",
    "\n",
    "for band in exoplanet.data:\n",
    "#for band in synthetic_data:\n",
    "    #best_parameters[band] = [par[j].reshape(1)[0] for par, j in zip(parameters, logls[band]['index'])]\n",
    "    best_parameters[band] = mc_fit[band]\n",
    "    best_rotation[band] = best_parameters[band][0]\n",
    "    best_paramgrid[band] = N.meshgrid(*best_parameters[band])\n",
    "    \n",
    "    #For purposes of plotting and displays, let's bump up the resolution.\n",
    "    #We only need to generate a single model for each band.\n",
    "    planet.set_resolution(longitude_resolution = 18,\n",
    "                          latitude_resolution = 8,\n",
    "                          time_resolution = 200,\n",
    "                          num_orbits = 11)\n",
    "    \n",
    "    best_model[band] = generate_model(best_paramgrid[band], instrument.bandpass[band])\n",
    "    #best_model[band]['model'] = best_model[band]['model'].reshape(planet.time_resolution*planet.num_orbits)\n",
    "    #best_model[band]['temp'] = best_model[band]['temp'].reshape(planet.time_resolution*planet.num_orbits, planet.latitude_resolution+1, planet.longitude_resolution+1)"
   ]
  },
  {
   "cell_type": "markdown",
   "metadata": {},
   "source": [
    "##### Plot a color contour plot in 2D of the log likelihoods as functions of 2 parameters. Overlay the walker trajectories in the 2D space."
   ]
  },
  {
   "cell_type": "code",
   "execution_count": null,
   "metadata": {
    "collapsed": false
   },
   "outputs": [],
   "source": [
    "x, y = N.meshgrid(t1000, albedo)\n",
    "print N.shape(x)\n",
    "plt.pcolor(x, y, logls['8p0']['logl'].reshape(51,51).T, cmap='cubehelix_r')\n",
    "plt.colorbar()\n",
    "for band in exoplanet.data:\n",
    "    plt.plot(mc_pos[band].T[1][0], mc_pos[band].T[3][0], color=colors.color_datlab[band], alpha=0.5)\n",
    "plt.ylabel(r'Albedo')\n",
    "plt.ylim([0,0.5])\n",
    "plt.xlabel(r'$\\tau_{1000}$ (hr)')\n",
    "#plt.ylim([0,150])\n",
    "plt.title(r'8.0 $\\mu$m')\n",
    "plt.savefig('{0}_{1}_loglgrid_8p0_PSR_250K.pdf'.format(datetime.date.today(), planet.name))\n",
    "plt.clf()"
   ]
  },
  {
   "cell_type": "markdown",
   "metadata": {},
   "source": [
    "##### Create some plot objects. The orbit plot shows the outline and motion/phases over the orbit, showing the rotation. The surface plot shows the evolution of surface temperatures, but can be used to show any planet surface quantity over time."
   ]
  },
  {
   "cell_type": "code",
   "execution_count": 27,
   "metadata": {
    "collapsed": false
   },
   "outputs": [],
   "source": [
    "lightcurve_plot = LightCurvePlot(planet, exoplanet.data, best_model, best_parameters)\n",
    "orbit_plot = OrbitPlot(planet,\n",
    "                       rotation_period = best_rotation['3p6'])\n",
    "surface_plot = SurfacePlot(planet,\n",
    "                           rotation_period = best_rotation['3p6'],\n",
    "                           map_array = best_model['3p6']['temp'].reshape(planet.time_resolution*planet.num_orbits, planet.latitude_resolution+1, planet.longitude_resolution+1))"
   ]
  },
  {
   "cell_type": "markdown",
   "metadata": {},
   "source": [
    "##### Plot the data vs. models. The models shown correspond to the best-fit parameters for each band, which may or may not agree with each other."
   ]
  },
  {
   "cell_type": "code",
   "execution_count": 28,
   "metadata": {
    "collapsed": false
   },
   "outputs": [],
   "source": [
    "fig, ax = plt.subplots()\n",
    "lightcurve_plot.draw(axis=ax, save=True)"
   ]
  },
  {
   "cell_type": "markdown",
   "metadata": {},
   "source": [
    "##### This animation routine accepts a list of plot objects to animate. Here I chose the orbit and surface maps."
   ]
  },
  {
   "cell_type": "code",
   "execution_count": null,
   "metadata": {
    "collapsed": false,
    "scrolled": true
   },
   "outputs": [],
   "source": [
    "animation = multi_animation.draw(planet, [orbit_plot, surface_plot])"
   ]
  },
  {
   "cell_type": "markdown",
   "metadata": {},
   "source": [
    "\n",
    "\n",
    "##### Plot a grid of likelihood contour maps, showing the regions of most favorable parameter values for each wavelength band."
   ]
  },
  {
   "cell_type": "code",
   "execution_count": null,
   "metadata": {
    "collapsed": false
   },
   "outputs": [],
   "source": [
    "matplotlib.rcParams['xtick.direction'] = 'out'\n",
    "matplotlib.rcParams['ytick.direction'] = 'out'\n",
    "\n",
    "num_columns = N.sum(wavelengths_use)\n",
    "column_order = [N.sum(wavelengths_use[:n]) for n in xrange(len(wavelengths_use))]\n",
    "num_rows = N.shape(planet.beta)[2]\n",
    "\n",
    "likelihood_figure, axes = plt.subplots(num_rows, num_columns, sharex=True)\n",
    "\n",
    "level_min = N.ceil(N.min([logl[key]['logl'] for key in logl.keys()]))\n",
    "level_max = N.ceil(N.max([logl[key]['logl'] for key in logl.keys()]))\n",
    "level_step = 10**(N.floor(N.log10(level_max))-1)\n",
    "levels = N.arange(start=level_min, stop=level_max, step=2*level_step)\n",
    "\n",
    "for i, row in enumerate(axes):\n",
    "    for j, cell in enumerate(row):\n",
    "        cell.yaxis.tick_right()\n",
    "        if use_3p6 and j == column_order[0]:\n",
    "            cell.set_axis_bgcolor('#D9B2F0')\n",
    "            im = cell.contour(rot_psr, t_rad, logl['3p6']['logl'][:,:,num_rows-(i+1)].T, levels, origin='lower', cmap=cm.plasma)\n",
    "            if i == 0: cell.set_title(r'$3.6 \\mu$m', fontsize=15, color='#6E209C')\n",
    "        if use_4p5 and j == column_order[1]:\n",
    "            im = cell.contour(rot_psr, t_rad, logl['4p5']['logl'][:,:,num_rows-(i+1)].T, levels, origin='lower', cmap=cm.plasma)\n",
    "            cell.set_axis_bgcolor('#FFD4BA')\n",
    "            if i == 0: cell.set_title(r'$4.5 \\mu$m', fontsize=15, color='#E97025')\n",
    "        if use_5p8 and j == column_order[2]:\n",
    "            im = cell.contour(rot_psr, t_rad, logl['5p8']['logl'][:,:,num_rows-(i+1)].T, levels, origin='lower', cmap=cm.plasma)\n",
    "            cell.set_axis_bgcolor('#C5F8B5')\n",
    "            if i == 0: cell.set_title(r'$5.8 \\mu$m', fontsize=15, color='#47C61F')\n",
    "        if use_8p0 and j == column_order[3]:\n",
    "            im = cell.contour(rot_psr, t_rad, logl['8p0']['logl'][:,:,num_rows-(i+1)].T, levels, origin='lower', cmap=cm.plasma)\n",
    "            cell.set_axis_bgcolor('#F8B5D2')\n",
    "            if i == 0: cell.set_title(r'$8.0 \\mu$m', fontsize=15, color='#C51F68')\n",
    "        \n",
    "        if j == 0: cell.set_ylabel('%i' % nighttemp[num_rows-(i+1)].value, fontsize=12)\n",
    "        if j != num_columns-1:\n",
    "            cell.yaxis.set_ticklabels([])\n",
    "            \n",
    "        #im = cell.imshow(likelihoods[j,:,:,i], interpolation='bilinear', origin='lower', cmap=cm.viridis)\n",
    "        cell.clabel(im, inline=1, fmt='%i', fontsize=8)\n",
    "        \n",
    "likelihood_figure.text(0.5, 0.01, r'$P_{\\mathrm{rot}}/P_{\\mathrm{PSR}}$', fontsize=15, ha='center')\n",
    "likelihood_figure.text(0.97, 0.5, r'$t_{\\mathrm{rad}}$ (hr) at 1000 K', fontsize=15, va='center', rotation='vertical')\n",
    "likelihood_figure.text(0.03, 0.5, r'$T_{\\mathrm{n}}$ (K)', fontsize=15, va='center', rotation='vertical')\n",
    "likelihood_figure.tight_layout\n",
    "plt.savefig('{0}_likelihood_{1}.eps'.format(datetime.date.today(), planet.name))"
   ]
  },
  {
   "cell_type": "markdown",
   "metadata": {},
   "source": [
    "##### This function allows us to estimate the uncertainty in our best-fit parameters by running a bootstrap routine."
   ]
  },
  {
   "cell_type": "code",
   "execution_count": null,
   "metadata": {
    "collapsed": true
   },
   "outputs": [],
   "source": [
    "def bootstrap(data, response, passband, num_samples):\n",
    "    variance = 0\n",
    "    best_values = best_grid(logl[passband])\n",
    "    betas, rots, nighttemps = best_values['mesh']\n",
    "    planet.set_custom_parameters(beta=betas,\n",
    "                               rotation_period=rots,\n",
    "                               nightside_temperature=nighttemps)\n",
    "    planet.set_albedo(best_values['albedo'])\n",
    "    data_resample = data.copy()\n",
    "    for i in xrange(num_samples):\n",
    "        resample = N.random.choice(range(N.shape(data)[0]), size=N.shape(data)[0], replace=True)\n",
    "        for j in xrange(N.shape(data)[0]):\n",
    "            data_resample.values[j] = N.array([data.t[resample[j]], data.flux[resample[j]]])\n",
    "        logl_resample = planet.log_likelihood(data_resample, response, time_cut)\n",
    "        var_i = (logl_resample['logl'] - best_values['logl'])**2 / num_samples\n",
    "        variance += var_i\n",
    "    \n",
    "    return N.sqrt(variance)"
   ]
  }
 ],
 "metadata": {
  "anaconda-cloud": {},
  "kernelspec": {
   "display_name": "Python [default]",
   "language": "python",
   "name": "python2"
  },
  "language_info": {
   "codemirror_mode": {
    "name": "ipython",
    "version": 2
   },
   "file_extension": ".py",
   "mimetype": "text/x-python",
   "name": "python",
   "nbconvert_exporter": "python",
   "pygments_lexer": "ipython2",
   "version": "2.7.12"
  }
 },
 "nbformat": 4,
 "nbformat_minor": 0
}
